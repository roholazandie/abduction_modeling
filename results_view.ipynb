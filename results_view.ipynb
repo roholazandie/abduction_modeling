{
 "cells": [
  {
   "cell_type": "code",
   "execution_count": 1,
   "metadata": {
    "collapsed": true
   },
   "outputs": [],
   "source": [
    "import json\n",
    "\n",
    "import pandas as pd"
   ]
  },
  {
   "cell_type": "code",
   "execution_count": 2,
   "outputs": [],
   "source": [
    "import json\n",
    "def read_comet(file_path):\n",
    "    with open(file_path, 'r') as fh:\n",
    "        for line in fh:\n",
    "            vj = json.loads(line)\n",
    "            yield {'story_id': vj['story_id'],\n",
    "                   'obs1': vj['obs1'],\n",
    "                   'obs2': vj['obs2'],\n",
    "                   'real_hypothesis': vj['hyp1'] if vj['label'] == 1 else vj['hyp2'],\n",
    "                   'comet_model': vj['generations']['gpt2_for_anli_comet'][0]}"
   ],
   "metadata": {
    "collapsed": false,
    "pycharm": {
     "name": "#%%\n"
    }
   }
  },
  {
   "cell_type": "code",
   "execution_count": 3,
   "outputs": [],
   "source": [
    "def read_abduction(file_path):\n",
    "    with open(file_path, 'r') as fh:\n",
    "        next(fh)\n",
    "        for line in fh:\n",
    "            val = line.split(',')\n",
    "            yield {'obs1': val[0],\n",
    "                   'obs2': val[1],\n",
    "                   'real_hypothesis': val[3],\n",
    "                   'abduction_model': val[2]}"
   ],
   "metadata": {
    "collapsed": false,
    "pycharm": {
     "name": "#%%\n"
    }
   }
  },
  {
   "cell_type": "code",
   "execution_count": 4,
   "outputs": [
    {
     "data": {
      "text/plain": "                                    story_id  \\\n0     0023fe98-5106-458d-8069-e72f1f7d65eb-1   \n1     0023fe98-5106-458d-8069-e72f1f7d65eb-1   \n2     0023fe98-5106-458d-8069-e72f1f7d65eb-1   \n3     004b048d-beda-45a3-bb51-7a16dec21c5a-1   \n4     004b048d-beda-45a3-bb51-7a16dec21c5a-1   \n...                                      ...   \n7247  ff76fad7-2c83-4173-9575-f627092a0846-1   \n7248  ffc2e6d7-723e-4dc2-ad33-e9757c4030db-1   \n7249  ffc2e6d7-723e-4dc2-ad33-e9757c4030db-1   \n7250  ffc2e6d7-723e-4dc2-ad33-e9757c4030db-1   \n7251  ffc2e6d7-723e-4dc2-ad33-e9757c4030db-1   \n\n                                                   obs1  \\\n0                               Stephen was at a party.   \n1                               Stephen was at a party.   \n2                               Stephen was at a party.   \n3     Donna keeps a giant bowl of candy on her desk ...   \n4     Donna keeps a giant bowl of candy on her desk ...   \n...                                                 ...   \n7247                         My dog loved tennis balls.   \n7248  Sandy wanted to know what her husband bought h...   \n7249  Sandy wanted to know what her husband bought h...   \n7250  Sandy wanted to know what her husband bought h...   \n7251  Sandy wanted to know what her husband bought h...   \n\n                                                   obs2  \\\n0           He checked it but it was completely broken.   \n1           He checked it but it was completely broken.   \n2           He checked it but it was completely broken.   \n3     Her coworkers were so excited for all the new ...   \n4     Her coworkers were so excited for all the new ...   \n...                                                 ...   \n7247  My dog had stolen every one and put it under t...   \n7248           She carefully opened it and took a peek.   \n7249           She carefully opened it and took a peek.   \n7250           She carefully opened it and took a peek.   \n7251           She carefully opened it and took a peek.   \n\n                                        real_hypothesis  \\\n0              Stephen knocked over a vase while drunk.   \n1                            Stephen dropped his phone.   \n2     Stephen broke Jack's computer by accident whil...   \n3                    Donna forgot to replace the candy.   \n4                             Donna got some old candy.   \n...                                                 ...   \n7247                         My dog hates tennis balls.   \n7248  Sandy accidentally stumbled upon her gift in t...   \n7249            But she couldn't find where he hid hit.   \n7250  When Sandy was at work, her husband searched t...   \n7251  When he went to work the curiosity did not get...   \n\n                                            comet_model  \n0                            Stephen forgot his jacket.  \n1                     Stephen fell asleep on the couch.  \n2     Stephen was distracted from his father by a no...  \n3                   Donna's co workers like spicy food.  \n4                             Donna got some new boxes.  \n...                                                 ...  \n7247      My dog ran into a large ball when she saw it.  \n7248                Sandy's husband made her something.  \n7249                 Sandy decided to open a large box.  \n7250                       Sandy wanted a real cupcake.  \n7251  Sandy wanted to know what the tastes of the th...  \n\n[7252 rows x 5 columns]",
      "text/html": "<div>\n<style scoped>\n    .dataframe tbody tr th:only-of-type {\n        vertical-align: middle;\n    }\n\n    .dataframe tbody tr th {\n        vertical-align: top;\n    }\n\n    .dataframe thead th {\n        text-align: right;\n    }\n</style>\n<table border=\"1\" class=\"dataframe\">\n  <thead>\n    <tr style=\"text-align: right;\">\n      <th></th>\n      <th>story_id</th>\n      <th>obs1</th>\n      <th>obs2</th>\n      <th>real_hypothesis</th>\n      <th>comet_model</th>\n    </tr>\n  </thead>\n  <tbody>\n    <tr>\n      <th>0</th>\n      <td>0023fe98-5106-458d-8069-e72f1f7d65eb-1</td>\n      <td>Stephen was at a party.</td>\n      <td>He checked it but it was completely broken.</td>\n      <td>Stephen knocked over a vase while drunk.</td>\n      <td>Stephen forgot his jacket.</td>\n    </tr>\n    <tr>\n      <th>1</th>\n      <td>0023fe98-5106-458d-8069-e72f1f7d65eb-1</td>\n      <td>Stephen was at a party.</td>\n      <td>He checked it but it was completely broken.</td>\n      <td>Stephen dropped his phone.</td>\n      <td>Stephen fell asleep on the couch.</td>\n    </tr>\n    <tr>\n      <th>2</th>\n      <td>0023fe98-5106-458d-8069-e72f1f7d65eb-1</td>\n      <td>Stephen was at a party.</td>\n      <td>He checked it but it was completely broken.</td>\n      <td>Stephen broke Jack's computer by accident whil...</td>\n      <td>Stephen was distracted from his father by a no...</td>\n    </tr>\n    <tr>\n      <th>3</th>\n      <td>004b048d-beda-45a3-bb51-7a16dec21c5a-1</td>\n      <td>Donna keeps a giant bowl of candy on her desk ...</td>\n      <td>Her coworkers were so excited for all the new ...</td>\n      <td>Donna forgot to replace the candy.</td>\n      <td>Donna's co workers like spicy food.</td>\n    </tr>\n    <tr>\n      <th>4</th>\n      <td>004b048d-beda-45a3-bb51-7a16dec21c5a-1</td>\n      <td>Donna keeps a giant bowl of candy on her desk ...</td>\n      <td>Her coworkers were so excited for all the new ...</td>\n      <td>Donna got some old candy.</td>\n      <td>Donna got some new boxes.</td>\n    </tr>\n    <tr>\n      <th>...</th>\n      <td>...</td>\n      <td>...</td>\n      <td>...</td>\n      <td>...</td>\n      <td>...</td>\n    </tr>\n    <tr>\n      <th>7247</th>\n      <td>ff76fad7-2c83-4173-9575-f627092a0846-1</td>\n      <td>My dog loved tennis balls.</td>\n      <td>My dog had stolen every one and put it under t...</td>\n      <td>My dog hates tennis balls.</td>\n      <td>My dog ran into a large ball when she saw it.</td>\n    </tr>\n    <tr>\n      <th>7248</th>\n      <td>ffc2e6d7-723e-4dc2-ad33-e9757c4030db-1</td>\n      <td>Sandy wanted to know what her husband bought h...</td>\n      <td>She carefully opened it and took a peek.</td>\n      <td>Sandy accidentally stumbled upon her gift in t...</td>\n      <td>Sandy's husband made her something.</td>\n    </tr>\n    <tr>\n      <th>7249</th>\n      <td>ffc2e6d7-723e-4dc2-ad33-e9757c4030db-1</td>\n      <td>Sandy wanted to know what her husband bought h...</td>\n      <td>She carefully opened it and took a peek.</td>\n      <td>But she couldn't find where he hid hit.</td>\n      <td>Sandy decided to open a large box.</td>\n    </tr>\n    <tr>\n      <th>7250</th>\n      <td>ffc2e6d7-723e-4dc2-ad33-e9757c4030db-1</td>\n      <td>Sandy wanted to know what her husband bought h...</td>\n      <td>She carefully opened it and took a peek.</td>\n      <td>When Sandy was at work, her husband searched t...</td>\n      <td>Sandy wanted a real cupcake.</td>\n    </tr>\n    <tr>\n      <th>7251</th>\n      <td>ffc2e6d7-723e-4dc2-ad33-e9757c4030db-1</td>\n      <td>Sandy wanted to know what her husband bought h...</td>\n      <td>She carefully opened it and took a peek.</td>\n      <td>When he went to work the curiosity did not get...</td>\n      <td>Sandy wanted to know what the tastes of the th...</td>\n    </tr>\n  </tbody>\n</table>\n<p>7252 rows × 5 columns</p>\n</div>"
     },
     "execution_count": 4,
     "metadata": {},
     "output_type": "execute_result"
    }
   ],
   "source": [
    "comet_df_validation = pd.DataFrame(read_comet('results/dev-w-comet-preds-generations.jsonl'))\n",
    "comet_df_validation"
   ],
   "metadata": {
    "collapsed": false,
    "pycharm": {
     "name": "#%%\n"
    }
   }
  },
  {
   "cell_type": "code",
   "execution_count": 5,
   "outputs": [
    {
     "data": {
      "text/plain": "                                     story_id  \\\n0      0061bad2-e595-483c-9649-87cc1f2ea3e8-1   \n1      0061bad2-e595-483c-9649-87cc1f2ea3e8-1   \n2      0061bad2-e595-483c-9649-87cc1f2ea3e8-1   \n3      0061bad2-e595-483c-9649-87cc1f2ea3e8-1   \n4      0061bad2-e595-483c-9649-87cc1f2ea3e8-1   \n...                                       ...   \n14308  fffa8585-8273-49ed-a818-460c981f9779-1   \n14309  fffcd77b-26e2-4fa9-93b2-5dee55f9f452-1   \n14310  fffcd77b-26e2-4fa9-93b2-5dee55f9f452-1   \n14311  fffcd77b-26e2-4fa9-93b2-5dee55f9f452-1   \n14312  fffcd77b-26e2-4fa9-93b2-5dee55f9f452-1   \n\n                                                    obs1  \\\n0      The Smiths were having holidays done of the ch...   \n1      The Smiths were having holidays done of the ch...   \n2      The Smiths were having holidays done of the ch...   \n3      The Smiths were having holidays done of the ch...   \n4      The Smiths were having holidays done of the ch...   \n...                                                  ...   \n14308              Willy had butterflies in his stomach.   \n14309                   My mom and I had a big argument.   \n14310                   My mom and I had a big argument.   \n14311                   My mom and I had a big argument.   \n14312                   My mom and I had a big argument.   \n\n                                                    obs2  \\\n0      Ty's face lit up as he ran to the new toy, hap...   \n1      Ty's face lit up as he ran to the new toy, hap...   \n2      Ty's face lit up as he ran to the new toy, hap...   \n3      Ty's face lit up as he ran to the new toy, hap...   \n4      Ty's face lit up as he ran to the new toy, hap...   \n...                                                  ...   \n14308                Willy played great and was the mvp.   \n14309  I finally called my mom and the two of us reco...   \n14310  I finally called my mom and the two of us reco...   \n14311  I finally called my mom and the two of us reco...   \n14312  I finally called my mom and the two of us reco...   \n\n                                        real_hypothesis  \\\n0                  The Smiths bought toys for the kids.   \n1                  The Smiths had not bought  presents.   \n2                          The smiths forgot the gifts.   \n3                They included some toys in the photos.   \n4                    Their children came to their home.   \n...                                                 ...   \n14308            Willie stopped to relax for 5 minutes.   \n14309  I didn't like that my mom and I weren't talking.   \n14310    I refused to call her and we never reconciled.   \n14311             My mom and I did not talk for awhile.   \n14312                        We went our separate ways.   \n\n                                             comet_model  \n0      The Smiths bought a new toy, Ty had never seen...  \n1      One of Ty's kids introduced himself, and Ty kn...  \n2                                   Ty bought a new toy.  \n3                            They bought a video camera.  \n4                  Ty decided to get some birthday toys.  \n...                                                  ...  \n14308               Willy's favorite person is a Mr. It.  \n14309                              I fell off the couch.  \n14310                             My mom was devastated.  \n14311                       My mom and I were separated.  \n14312                  My mom was not too happy with us.  \n\n[14313 rows x 5 columns]",
      "text/html": "<div>\n<style scoped>\n    .dataframe tbody tr th:only-of-type {\n        vertical-align: middle;\n    }\n\n    .dataframe tbody tr th {\n        vertical-align: top;\n    }\n\n    .dataframe thead th {\n        text-align: right;\n    }\n</style>\n<table border=\"1\" class=\"dataframe\">\n  <thead>\n    <tr style=\"text-align: right;\">\n      <th></th>\n      <th>story_id</th>\n      <th>obs1</th>\n      <th>obs2</th>\n      <th>real_hypothesis</th>\n      <th>comet_model</th>\n    </tr>\n  </thead>\n  <tbody>\n    <tr>\n      <th>0</th>\n      <td>0061bad2-e595-483c-9649-87cc1f2ea3e8-1</td>\n      <td>The Smiths were having holidays done of the ch...</td>\n      <td>Ty's face lit up as he ran to the new toy, hap...</td>\n      <td>The Smiths bought toys for the kids.</td>\n      <td>The Smiths bought a new toy, Ty had never seen...</td>\n    </tr>\n    <tr>\n      <th>1</th>\n      <td>0061bad2-e595-483c-9649-87cc1f2ea3e8-1</td>\n      <td>The Smiths were having holidays done of the ch...</td>\n      <td>Ty's face lit up as he ran to the new toy, hap...</td>\n      <td>The Smiths had not bought  presents.</td>\n      <td>One of Ty's kids introduced himself, and Ty kn...</td>\n    </tr>\n    <tr>\n      <th>2</th>\n      <td>0061bad2-e595-483c-9649-87cc1f2ea3e8-1</td>\n      <td>The Smiths were having holidays done of the ch...</td>\n      <td>Ty's face lit up as he ran to the new toy, hap...</td>\n      <td>The smiths forgot the gifts.</td>\n      <td>Ty bought a new toy.</td>\n    </tr>\n    <tr>\n      <th>3</th>\n      <td>0061bad2-e595-483c-9649-87cc1f2ea3e8-1</td>\n      <td>The Smiths were having holidays done of the ch...</td>\n      <td>Ty's face lit up as he ran to the new toy, hap...</td>\n      <td>They included some toys in the photos.</td>\n      <td>They bought a video camera.</td>\n    </tr>\n    <tr>\n      <th>4</th>\n      <td>0061bad2-e595-483c-9649-87cc1f2ea3e8-1</td>\n      <td>The Smiths were having holidays done of the ch...</td>\n      <td>Ty's face lit up as he ran to the new toy, hap...</td>\n      <td>Their children came to their home.</td>\n      <td>Ty decided to get some birthday toys.</td>\n    </tr>\n    <tr>\n      <th>...</th>\n      <td>...</td>\n      <td>...</td>\n      <td>...</td>\n      <td>...</td>\n      <td>...</td>\n    </tr>\n    <tr>\n      <th>14308</th>\n      <td>fffa8585-8273-49ed-a818-460c981f9779-1</td>\n      <td>Willy had butterflies in his stomach.</td>\n      <td>Willy played great and was the mvp.</td>\n      <td>Willie stopped to relax for 5 minutes.</td>\n      <td>Willy's favorite person is a Mr. It.</td>\n    </tr>\n    <tr>\n      <th>14309</th>\n      <td>fffcd77b-26e2-4fa9-93b2-5dee55f9f452-1</td>\n      <td>My mom and I had a big argument.</td>\n      <td>I finally called my mom and the two of us reco...</td>\n      <td>I didn't like that my mom and I weren't talking.</td>\n      <td>I fell off the couch.</td>\n    </tr>\n    <tr>\n      <th>14310</th>\n      <td>fffcd77b-26e2-4fa9-93b2-5dee55f9f452-1</td>\n      <td>My mom and I had a big argument.</td>\n      <td>I finally called my mom and the two of us reco...</td>\n      <td>I refused to call her and we never reconciled.</td>\n      <td>My mom was devastated.</td>\n    </tr>\n    <tr>\n      <th>14311</th>\n      <td>fffcd77b-26e2-4fa9-93b2-5dee55f9f452-1</td>\n      <td>My mom and I had a big argument.</td>\n      <td>I finally called my mom and the two of us reco...</td>\n      <td>My mom and I did not talk for awhile.</td>\n      <td>My mom and I were separated.</td>\n    </tr>\n    <tr>\n      <th>14312</th>\n      <td>fffcd77b-26e2-4fa9-93b2-5dee55f9f452-1</td>\n      <td>My mom and I had a big argument.</td>\n      <td>I finally called my mom and the two of us reco...</td>\n      <td>We went our separate ways.</td>\n      <td>My mom was not too happy with us.</td>\n    </tr>\n  </tbody>\n</table>\n<p>14313 rows × 5 columns</p>\n</div>"
     },
     "execution_count": 5,
     "metadata": {},
     "output_type": "execute_result"
    }
   ],
   "source": [
    "comet_df_test = pd.DataFrame(read_comet('results/test-w-comet-preds-generations.jsonl'))\n",
    "comet_df_test"
   ],
   "metadata": {
    "collapsed": false,
    "pycharm": {
     "name": "#%%\n"
    }
   }
  },
  {
   "cell_type": "code",
   "execution_count": 6,
   "outputs": [
    {
     "data": {
      "text/plain": "                                                   obs1  \\\n0                               Stephen was at a party.   \n1                               Stephen was at a party.   \n2                               Stephen was at a party.   \n3     Donna keeps a giant bowl of candy on her desk ...   \n4     Donna keeps a giant bowl of candy on her desk ...   \n...                                                 ...   \n7247                         My dog loved tennis balls.   \n7248  Sandy wanted to know what her husband bought h...   \n7249  Sandy wanted to know what her husband bought h...   \n7250  Sandy wanted to know what her husband bought h...   \n7251  Sandy wanted to know what her husband bought h...   \n\n                                                   obs2  \\\n0           He checked it but it was completely broken.   \n1           He checked it but it was completely broken.   \n2           He checked it but it was completely broken.   \n3     Her coworkers were so excited for all the new ...   \n4     Her coworkers were so excited for all the new ...   \n...                                                 ...   \n7247  My dog had stolen every one and put it under t...   \n7248           She carefully opened it and took a peek.   \n7249           She carefully opened it and took a peek.   \n7250           She carefully opened it and took a peek.   \n7251           She carefully opened it and took a peek.   \n\n                                        real_hypothesis  \\\n0            Stephen knocked over a vase while drunk.\\n   \n1                          Stephen dropped his phone.\\n   \n2     Stephen broke Jack's computer by accident whil...   \n3             Donna got new treats for her coworkers.\\n   \n4                           Donna got some new candy.\\n   \n...                                                 ...   \n7247  One day I found all of my lost tennis balls un...   \n7248              Sandy found her gift in the closet.\\n   \n7249       She found the present lying in plain site.\\n   \n7250  When her husband was at work Sandy searched th...   \n7251  When he went to work the curiosity got the bes...   \n\n                                        abduction_model  \n0              Stephen dropped his phone.  was broken.   \n1              Stephen dropped his phone.  was broken.   \n2              Stephen dropped his phone.  was broken.   \n3     Donna's coworkers gave her a box of candy.  ca...  \n4     Donna's coworkers gave her a box of candy.  ca...  \n...                                                 ...  \n7247  I found several balls under my nightstand.  we...  \n7248  When he went to work the curiosity got the bes...  \n7249  When he went to work the curiosity got the bes...  \n7250  When he went to work the curiosity got the bes...  \n7251  When he went to work the curiosity got the bes...  \n\n[7252 rows x 4 columns]",
      "text/html": "<div>\n<style scoped>\n    .dataframe tbody tr th:only-of-type {\n        vertical-align: middle;\n    }\n\n    .dataframe tbody tr th {\n        vertical-align: top;\n    }\n\n    .dataframe thead th {\n        text-align: right;\n    }\n</style>\n<table border=\"1\" class=\"dataframe\">\n  <thead>\n    <tr style=\"text-align: right;\">\n      <th></th>\n      <th>obs1</th>\n      <th>obs2</th>\n      <th>real_hypothesis</th>\n      <th>abduction_model</th>\n    </tr>\n  </thead>\n  <tbody>\n    <tr>\n      <th>0</th>\n      <td>Stephen was at a party.</td>\n      <td>He checked it but it was completely broken.</td>\n      <td>Stephen knocked over a vase while drunk.\\n</td>\n      <td>Stephen dropped his phone.  was broken.</td>\n    </tr>\n    <tr>\n      <th>1</th>\n      <td>Stephen was at a party.</td>\n      <td>He checked it but it was completely broken.</td>\n      <td>Stephen dropped his phone.\\n</td>\n      <td>Stephen dropped his phone.  was broken.</td>\n    </tr>\n    <tr>\n      <th>2</th>\n      <td>Stephen was at a party.</td>\n      <td>He checked it but it was completely broken.</td>\n      <td>Stephen broke Jack's computer by accident whil...</td>\n      <td>Stephen dropped his phone.  was broken.</td>\n    </tr>\n    <tr>\n      <th>3</th>\n      <td>Donna keeps a giant bowl of candy on her desk ...</td>\n      <td>Her coworkers were so excited for all the new ...</td>\n      <td>Donna got new treats for her coworkers.\\n</td>\n      <td>Donna's coworkers gave her a box of candy.  ca...</td>\n    </tr>\n    <tr>\n      <th>4</th>\n      <td>Donna keeps a giant bowl of candy on her desk ...</td>\n      <td>Her coworkers were so excited for all the new ...</td>\n      <td>Donna got some new candy.\\n</td>\n      <td>Donna's coworkers gave her a box of candy.  ca...</td>\n    </tr>\n    <tr>\n      <th>...</th>\n      <td>...</td>\n      <td>...</td>\n      <td>...</td>\n      <td>...</td>\n    </tr>\n    <tr>\n      <th>7247</th>\n      <td>My dog loved tennis balls.</td>\n      <td>My dog had stolen every one and put it under t...</td>\n      <td>One day I found all of my lost tennis balls un...</td>\n      <td>I found several balls under my nightstand.  we...</td>\n    </tr>\n    <tr>\n      <th>7248</th>\n      <td>Sandy wanted to know what her husband bought h...</td>\n      <td>She carefully opened it and took a peek.</td>\n      <td>Sandy found her gift in the closet.\\n</td>\n      <td>When he went to work the curiosity got the bes...</td>\n    </tr>\n    <tr>\n      <th>7249</th>\n      <td>Sandy wanted to know what her husband bought h...</td>\n      <td>She carefully opened it and took a peek.</td>\n      <td>She found the present lying in plain site.\\n</td>\n      <td>When he went to work the curiosity got the bes...</td>\n    </tr>\n    <tr>\n      <th>7250</th>\n      <td>Sandy wanted to know what her husband bought h...</td>\n      <td>She carefully opened it and took a peek.</td>\n      <td>When her husband was at work Sandy searched th...</td>\n      <td>When he went to work the curiosity got the bes...</td>\n    </tr>\n    <tr>\n      <th>7251</th>\n      <td>Sandy wanted to know what her husband bought h...</td>\n      <td>She carefully opened it and took a peek.</td>\n      <td>When he went to work the curiosity got the bes...</td>\n      <td>When he went to work the curiosity got the bes...</td>\n    </tr>\n  </tbody>\n</table>\n<p>7252 rows × 4 columns</p>\n</div>"
     },
     "execution_count": 6,
     "metadata": {},
     "output_type": "execute_result"
    }
   ],
   "source": [
    "abduction_model_gpt2_lg_validation = pd.DataFrame(read_abduction('results/results_gpt2_large_validation.csv'))\n",
    "abduction_model_gpt2_lg_validation"
   ],
   "metadata": {
    "collapsed": false,
    "pycharm": {
     "name": "#%%\n"
    }
   }
  },
  {
   "cell_type": "code",
   "execution_count": 7,
   "outputs": [
    {
     "data": {
      "text/plain": "                                                    obs1  \\\n0      The Smiths were having holidays done of the ch...   \n1      The Smiths were having holidays done of the ch...   \n2      The Smiths were having holidays done of the ch...   \n3      The Smiths were having holidays done of the ch...   \n4      The Smiths were having holidays done of the ch...   \n...                                                  ...   \n14308              Willy had butterflies in his stomach.   \n14309                   My mom and I had a big argument.   \n14310                   My mom and I had a big argument.   \n14311                   My mom and I had a big argument.   \n14312                   My mom and I had a big argument.   \n\n                                                    obs2  \\\n0      Ty's face lit up as he ran to the new toy happ...   \n1      Ty's face lit up as he ran to the new toy happ...   \n2      Ty's face lit up as he ran to the new toy happ...   \n3      Ty's face lit up as he ran to the new toy happ...   \n4      Ty's face lit up as he ran to the new toy happ...   \n...                                                  ...   \n14308                Willy played great and was the mvp.   \n14309  I finally called my mom and the two of us reco...   \n14310  I finally called my mom and the two of us reco...   \n14311  I finally called my mom and the two of us reco...   \n14312  I finally called my mom and the two of us reco...   \n\n                                         real_hypothesis  \\\n0                 The Smiths bought toys for the kids.\\n   \n1             The Smiths had bought a lot of presents.\\n   \n2                               The smiths gave gifts.\\n   \n3               They included some toys in the photos.\\n   \n4                   Their children came to their home.\\n   \n...                                                  ...   \n14308           Willie stopped to relax for 5 minutes.\\n   \n14309  I didn't like that my mom and I weren't talkin...   \n14310  We disagreed on how I was disciplining my chil...   \n14311            My mom and I did not talk for awhile.\\n   \n14312                       We went our separate ways.\\n   \n\n                                         abduction_model  \n0      The Smiths had bought a lot of presents.  was ...  \n1      The Smiths had bought a lot of presents.  was ...  \n2      The Smiths had bought a lot of presents.  was ...  \n3      The Smiths had bought a lot of presents.  was ...  \n4      The Smiths had bought a lot of presents.  was ...  \n...                                                  ...  \n14308  Willy was the starting quarterback of his team...  \n14309  My mom and I did not talk for awhile.  was ter...  \n14310  My mom and I did not talk for awhile.  was ter...  \n14311  My mom and I did not talk for awhile.  was ter...  \n14312  My mom and I did not talk for awhile.  was ter...  \n\n[14313 rows x 4 columns]",
      "text/html": "<div>\n<style scoped>\n    .dataframe tbody tr th:only-of-type {\n        vertical-align: middle;\n    }\n\n    .dataframe tbody tr th {\n        vertical-align: top;\n    }\n\n    .dataframe thead th {\n        text-align: right;\n    }\n</style>\n<table border=\"1\" class=\"dataframe\">\n  <thead>\n    <tr style=\"text-align: right;\">\n      <th></th>\n      <th>obs1</th>\n      <th>obs2</th>\n      <th>real_hypothesis</th>\n      <th>abduction_model</th>\n    </tr>\n  </thead>\n  <tbody>\n    <tr>\n      <th>0</th>\n      <td>The Smiths were having holidays done of the ch...</td>\n      <td>Ty's face lit up as he ran to the new toy happ...</td>\n      <td>The Smiths bought toys for the kids.\\n</td>\n      <td>The Smiths had bought a lot of presents.  was ...</td>\n    </tr>\n    <tr>\n      <th>1</th>\n      <td>The Smiths were having holidays done of the ch...</td>\n      <td>Ty's face lit up as he ran to the new toy happ...</td>\n      <td>The Smiths had bought a lot of presents.\\n</td>\n      <td>The Smiths had bought a lot of presents.  was ...</td>\n    </tr>\n    <tr>\n      <th>2</th>\n      <td>The Smiths were having holidays done of the ch...</td>\n      <td>Ty's face lit up as he ran to the new toy happ...</td>\n      <td>The smiths gave gifts.\\n</td>\n      <td>The Smiths had bought a lot of presents.  was ...</td>\n    </tr>\n    <tr>\n      <th>3</th>\n      <td>The Smiths were having holidays done of the ch...</td>\n      <td>Ty's face lit up as he ran to the new toy happ...</td>\n      <td>They included some toys in the photos.\\n</td>\n      <td>The Smiths had bought a lot of presents.  was ...</td>\n    </tr>\n    <tr>\n      <th>4</th>\n      <td>The Smiths were having holidays done of the ch...</td>\n      <td>Ty's face lit up as he ran to the new toy happ...</td>\n      <td>Their children came to their home.\\n</td>\n      <td>The Smiths had bought a lot of presents.  was ...</td>\n    </tr>\n    <tr>\n      <th>...</th>\n      <td>...</td>\n      <td>...</td>\n      <td>...</td>\n      <td>...</td>\n    </tr>\n    <tr>\n      <th>14308</th>\n      <td>Willy had butterflies in his stomach.</td>\n      <td>Willy played great and was the mvp.</td>\n      <td>Willie stopped to relax for 5 minutes.\\n</td>\n      <td>Willy was the starting quarterback of his team...</td>\n    </tr>\n    <tr>\n      <th>14309</th>\n      <td>My mom and I had a big argument.</td>\n      <td>I finally called my mom and the two of us reco...</td>\n      <td>I didn't like that my mom and I weren't talkin...</td>\n      <td>My mom and I did not talk for awhile.  was ter...</td>\n    </tr>\n    <tr>\n      <th>14310</th>\n      <td>My mom and I had a big argument.</td>\n      <td>I finally called my mom and the two of us reco...</td>\n      <td>We disagreed on how I was disciplining my chil...</td>\n      <td>My mom and I did not talk for awhile.  was ter...</td>\n    </tr>\n    <tr>\n      <th>14311</th>\n      <td>My mom and I had a big argument.</td>\n      <td>I finally called my mom and the two of us reco...</td>\n      <td>My mom and I did not talk for awhile.\\n</td>\n      <td>My mom and I did not talk for awhile.  was ter...</td>\n    </tr>\n    <tr>\n      <th>14312</th>\n      <td>My mom and I had a big argument.</td>\n      <td>I finally called my mom and the two of us reco...</td>\n      <td>We went our separate ways.\\n</td>\n      <td>My mom and I did not talk for awhile.  was ter...</td>\n    </tr>\n  </tbody>\n</table>\n<p>14313 rows × 4 columns</p>\n</div>"
     },
     "execution_count": 7,
     "metadata": {},
     "output_type": "execute_result"
    }
   ],
   "source": [
    "abduction_model_gpt2_lg_test = pd.DataFrame(read_abduction('results/results_gpt2_large_test.csv'))\n",
    "abduction_model_gpt2_lg_test"
   ],
   "metadata": {
    "collapsed": false,
    "pycharm": {
     "name": "#%%\n"
    }
   }
  },
  {
   "cell_type": "code",
   "execution_count": 8,
   "outputs": [
    {
     "data": {
      "text/plain": "                                                   obs1  \\\n0                               Stephen was at a party.   \n1                               Stephen was at a party.   \n2                               Stephen was at a party.   \n3     Donna keeps a giant bowl of candy on her desk ...   \n4     Donna keeps a giant bowl of candy on her desk ...   \n...                                                 ...   \n7247                         My dog loved tennis balls.   \n7248  Sandy wanted to know what her husband bought h...   \n7249  Sandy wanted to know what her husband bought h...   \n7250  Sandy wanted to know what her husband bought h...   \n7251  Sandy wanted to know what her husband bought h...   \n\n                                                   obs2  \\\n0           He checked it but it was completely broken.   \n1           He checked it but it was completely broken.   \n2           He checked it but it was completely broken.   \n3     Her coworkers were so excited for all the new ...   \n4     Her coworkers were so excited for all the new ...   \n...                                                 ...   \n7247  My dog had stolen every one and put it under t...   \n7248           She carefully opened it and took a peek.   \n7249           She carefully opened it and took a peek.   \n7250           She carefully opened it and took a peek.   \n7251           She carefully opened it and took a peek.   \n\n                                        real_hypothesis  \\\n0            Stephen knocked over a vase while drunk.\\n   \n1                          Stephen dropped his phone.\\n   \n2     Stephen broke Jack's computer by accident whil...   \n3             Donna got new treats for her coworkers.\\n   \n4                           Donna got some new candy.\\n   \n...                                                 ...   \n7247  One day I found all of my lost tennis balls un...   \n7248              Sandy found her gift in the closet.\\n   \n7249       She found the present lying in plain site.\\n   \n7250  When her husband was at work Sandy searched th...   \n7251  When he went to work the curiosity got the bes...   \n\n                                        abduction_model  \n0                             Stephen broke his glass.   \n1                             Stephen broke his glass.   \n2                             Stephen broke his glass.   \n3     Donna's coworkers were very excited for all th...  \n4     Donna's coworkers were very excited for all th...  \n...                                                 ...  \n7247        I found several balls under my nightstand.   \n7248  When he went to work the received a small box ...  \n7249  When he went to work the received a small box ...  \n7250  When he went to work the received a small box ...  \n7251  When he went to work the received a small box ...  \n\n[7252 rows x 4 columns]",
      "text/html": "<div>\n<style scoped>\n    .dataframe tbody tr th:only-of-type {\n        vertical-align: middle;\n    }\n\n    .dataframe tbody tr th {\n        vertical-align: top;\n    }\n\n    .dataframe thead th {\n        text-align: right;\n    }\n</style>\n<table border=\"1\" class=\"dataframe\">\n  <thead>\n    <tr style=\"text-align: right;\">\n      <th></th>\n      <th>obs1</th>\n      <th>obs2</th>\n      <th>real_hypothesis</th>\n      <th>abduction_model</th>\n    </tr>\n  </thead>\n  <tbody>\n    <tr>\n      <th>0</th>\n      <td>Stephen was at a party.</td>\n      <td>He checked it but it was completely broken.</td>\n      <td>Stephen knocked over a vase while drunk.\\n</td>\n      <td>Stephen broke his glass.</td>\n    </tr>\n    <tr>\n      <th>1</th>\n      <td>Stephen was at a party.</td>\n      <td>He checked it but it was completely broken.</td>\n      <td>Stephen dropped his phone.\\n</td>\n      <td>Stephen broke his glass.</td>\n    </tr>\n    <tr>\n      <th>2</th>\n      <td>Stephen was at a party.</td>\n      <td>He checked it but it was completely broken.</td>\n      <td>Stephen broke Jack's computer by accident whil...</td>\n      <td>Stephen broke his glass.</td>\n    </tr>\n    <tr>\n      <th>3</th>\n      <td>Donna keeps a giant bowl of candy on her desk ...</td>\n      <td>Her coworkers were so excited for all the new ...</td>\n      <td>Donna got new treats for her coworkers.\\n</td>\n      <td>Donna's coworkers were very excited for all th...</td>\n    </tr>\n    <tr>\n      <th>4</th>\n      <td>Donna keeps a giant bowl of candy on her desk ...</td>\n      <td>Her coworkers were so excited for all the new ...</td>\n      <td>Donna got some new candy.\\n</td>\n      <td>Donna's coworkers were very excited for all th...</td>\n    </tr>\n    <tr>\n      <th>...</th>\n      <td>...</td>\n      <td>...</td>\n      <td>...</td>\n      <td>...</td>\n    </tr>\n    <tr>\n      <th>7247</th>\n      <td>My dog loved tennis balls.</td>\n      <td>My dog had stolen every one and put it under t...</td>\n      <td>One day I found all of my lost tennis balls un...</td>\n      <td>I found several balls under my nightstand.</td>\n    </tr>\n    <tr>\n      <th>7248</th>\n      <td>Sandy wanted to know what her husband bought h...</td>\n      <td>She carefully opened it and took a peek.</td>\n      <td>Sandy found her gift in the closet.\\n</td>\n      <td>When he went to work the received a small box ...</td>\n    </tr>\n    <tr>\n      <th>7249</th>\n      <td>Sandy wanted to know what her husband bought h...</td>\n      <td>She carefully opened it and took a peek.</td>\n      <td>She found the present lying in plain site.\\n</td>\n      <td>When he went to work the received a small box ...</td>\n    </tr>\n    <tr>\n      <th>7250</th>\n      <td>Sandy wanted to know what her husband bought h...</td>\n      <td>She carefully opened it and took a peek.</td>\n      <td>When her husband was at work Sandy searched th...</td>\n      <td>When he went to work the received a small box ...</td>\n    </tr>\n    <tr>\n      <th>7251</th>\n      <td>Sandy wanted to know what her husband bought h...</td>\n      <td>She carefully opened it and took a peek.</td>\n      <td>When he went to work the curiosity got the bes...</td>\n      <td>When he went to work the received a small box ...</td>\n    </tr>\n  </tbody>\n</table>\n<p>7252 rows × 4 columns</p>\n</div>"
     },
     "execution_count": 8,
     "metadata": {},
     "output_type": "execute_result"
    }
   ],
   "source": [
    "abduction_model_gpt2_md_validation = pd.DataFrame(read_abduction('results/results_gpt2_medium_validation.csv'))\n",
    "abduction_model_gpt2_md_validation"
   ],
   "metadata": {
    "collapsed": false,
    "pycharm": {
     "name": "#%%\n"
    }
   }
  },
  {
   "cell_type": "code",
   "execution_count": 9,
   "outputs": [
    {
     "data": {
      "text/plain": "                                                    obs1  \\\n0      The Smiths were having holidays done of the ch...   \n1      The Smiths were having holidays done of the ch...   \n2      The Smiths were having holidays done of the ch...   \n3      The Smiths were having holidays done of the ch...   \n4      The Smiths were having holidays done of the ch...   \n...                                                  ...   \n14308              Willy had butterflies in his stomach.   \n14309                   My mom and I had a big argument.   \n14310                   My mom and I had a big argument.   \n14311                   My mom and I had a big argument.   \n14312                   My mom and I had a big argument.   \n\n                                                    obs2  \\\n0      Ty's face lit up as he ran to the new toy happ...   \n1      Ty's face lit up as he ran to the new toy happ...   \n2      Ty's face lit up as he ran to the new toy happ...   \n3      Ty's face lit up as he ran to the new toy happ...   \n4      Ty's face lit up as he ran to the new toy happ...   \n...                                                  ...   \n14308                Willy played great and was the mvp.   \n14309  I finally called my mom and the two of us reco...   \n14310  I finally called my mom and the two of us reco...   \n14311  I finally called my mom and the two of us reco...   \n14312  I finally called my mom and the two of us reco...   \n\n                                         real_hypothesis  \\\n0                 The Smiths bought toys for the kids.\\n   \n1             The Smiths had bought a lot of presents.\\n   \n2                               The smiths gave gifts.\\n   \n3               They included some toys in the photos.\\n   \n4                   Their children came to their home.\\n   \n...                                                  ...   \n14308           Willie stopped to relax for 5 minutes.\\n   \n14309  I didn't like that my mom and I weren't talkin...   \n14310  We disagreed on how I was disciplining my chil...   \n14311            My mom and I did not talk for awhile.\\n   \n14312                       We went our separate ways.\\n   \n\n                                         abduction_model  \n0              The Smiths had bought a lot of presents.   \n1              The Smiths had bought a lot of presents.   \n2              The Smiths had bought a lot of presents.   \n3              The Smiths had bought a lot of presents.   \n4              The Smiths had bought a lot of presents.   \n...                                                  ...  \n14308   Willy was the starting quarterback of his team.   \n14309  I didn't like that my mom and I weren't talking.   \n14310  I didn't like that my mom and I weren't talking.   \n14311  I didn't like that my mom and I weren't talking.   \n14312  I didn't like that my mom and I weren't talking.   \n\n[14313 rows x 4 columns]",
      "text/html": "<div>\n<style scoped>\n    .dataframe tbody tr th:only-of-type {\n        vertical-align: middle;\n    }\n\n    .dataframe tbody tr th {\n        vertical-align: top;\n    }\n\n    .dataframe thead th {\n        text-align: right;\n    }\n</style>\n<table border=\"1\" class=\"dataframe\">\n  <thead>\n    <tr style=\"text-align: right;\">\n      <th></th>\n      <th>obs1</th>\n      <th>obs2</th>\n      <th>real_hypothesis</th>\n      <th>abduction_model</th>\n    </tr>\n  </thead>\n  <tbody>\n    <tr>\n      <th>0</th>\n      <td>The Smiths were having holidays done of the ch...</td>\n      <td>Ty's face lit up as he ran to the new toy happ...</td>\n      <td>The Smiths bought toys for the kids.\\n</td>\n      <td>The Smiths had bought a lot of presents.</td>\n    </tr>\n    <tr>\n      <th>1</th>\n      <td>The Smiths were having holidays done of the ch...</td>\n      <td>Ty's face lit up as he ran to the new toy happ...</td>\n      <td>The Smiths had bought a lot of presents.\\n</td>\n      <td>The Smiths had bought a lot of presents.</td>\n    </tr>\n    <tr>\n      <th>2</th>\n      <td>The Smiths were having holidays done of the ch...</td>\n      <td>Ty's face lit up as he ran to the new toy happ...</td>\n      <td>The smiths gave gifts.\\n</td>\n      <td>The Smiths had bought a lot of presents.</td>\n    </tr>\n    <tr>\n      <th>3</th>\n      <td>The Smiths were having holidays done of the ch...</td>\n      <td>Ty's face lit up as he ran to the new toy happ...</td>\n      <td>They included some toys in the photos.\\n</td>\n      <td>The Smiths had bought a lot of presents.</td>\n    </tr>\n    <tr>\n      <th>4</th>\n      <td>The Smiths were having holidays done of the ch...</td>\n      <td>Ty's face lit up as he ran to the new toy happ...</td>\n      <td>Their children came to their home.\\n</td>\n      <td>The Smiths had bought a lot of presents.</td>\n    </tr>\n    <tr>\n      <th>...</th>\n      <td>...</td>\n      <td>...</td>\n      <td>...</td>\n      <td>...</td>\n    </tr>\n    <tr>\n      <th>14308</th>\n      <td>Willy had butterflies in his stomach.</td>\n      <td>Willy played great and was the mvp.</td>\n      <td>Willie stopped to relax for 5 minutes.\\n</td>\n      <td>Willy was the starting quarterback of his team.</td>\n    </tr>\n    <tr>\n      <th>14309</th>\n      <td>My mom and I had a big argument.</td>\n      <td>I finally called my mom and the two of us reco...</td>\n      <td>I didn't like that my mom and I weren't talkin...</td>\n      <td>I didn't like that my mom and I weren't talking.</td>\n    </tr>\n    <tr>\n      <th>14310</th>\n      <td>My mom and I had a big argument.</td>\n      <td>I finally called my mom and the two of us reco...</td>\n      <td>We disagreed on how I was disciplining my chil...</td>\n      <td>I didn't like that my mom and I weren't talking.</td>\n    </tr>\n    <tr>\n      <th>14311</th>\n      <td>My mom and I had a big argument.</td>\n      <td>I finally called my mom and the two of us reco...</td>\n      <td>My mom and I did not talk for awhile.\\n</td>\n      <td>I didn't like that my mom and I weren't talking.</td>\n    </tr>\n    <tr>\n      <th>14312</th>\n      <td>My mom and I had a big argument.</td>\n      <td>I finally called my mom and the two of us reco...</td>\n      <td>We went our separate ways.\\n</td>\n      <td>I didn't like that my mom and I weren't talking.</td>\n    </tr>\n  </tbody>\n</table>\n<p>14313 rows × 4 columns</p>\n</div>"
     },
     "execution_count": 9,
     "metadata": {},
     "output_type": "execute_result"
    }
   ],
   "source": [
    "abduction_model_gpt2_md_test = pd.DataFrame(read_abduction('results/results_gpt2_medium_test.csv'))\n",
    "abduction_model_gpt2_md_test"
   ],
   "metadata": {
    "collapsed": false,
    "pycharm": {
     "name": "#%%\n"
    }
   }
  },
  {
   "cell_type": "code",
   "execution_count": 10,
   "outputs": [
    {
     "data": {
      "text/plain": "                                                   obs1  \\\n0                               Stephen was at a party.   \n1                               Stephen was at a party.   \n2                               Stephen was at a party.   \n3     Donna keeps a giant bowl of candy on her desk ...   \n4     Donna keeps a giant bowl of candy on her desk ...   \n...                                                 ...   \n7247                         My dog loved tennis balls.   \n7248  Sandy wanted to know what her husband bought h...   \n7249  Sandy wanted to know what her husband bought h...   \n7250  Sandy wanted to know what her husband bought h...   \n7251  Sandy wanted to know what her husband bought h...   \n\n                                                   obs2  \\\n0           He checked it but it was completely broken.   \n1           He checked it but it was completely broken.   \n2           He checked it but it was completely broken.   \n3     Her coworkers were so excited for all the new ...   \n4     Her coworkers were so excited for all the new ...   \n...                                                 ...   \n7247  My dog had stolen every one and put it under t...   \n7248           She carefully opened it and took a peek.   \n7249           She carefully opened it and took a peek.   \n7250           She carefully opened it and took a peek.   \n7251           She carefully opened it and took a peek.   \n\n                                        real_hypothesis  \\\n0            Stephen knocked over a vase while drunk.\\n   \n1                          Stephen dropped his phone.\\n   \n2     Stephen broke Jack's computer by accident whil...   \n3             Donna got new treats for her coworkers.\\n   \n4                           Donna got some new candy.\\n   \n...                                                 ...   \n7247  One day I found all of my lost tennis balls un...   \n7248              Sandy found her gift in the closet.\\n   \n7249       She found the present lying in plain site.\\n   \n7250  When her husband was at work Sandy searched th...   \n7251  When he went to work the curiosity got the bes...   \n\n                                        abduction_model  \n0     Stephen was very drunk. Stephen drank too much...  \n1     Stephen was very drunk. Stephen drank too much...  \n2     Stephen was very drunk. Stephen drank too much...  \n3     Donna's coworkers were so happy. Donna's cowor...  \n4     Donna's coworkers were so happy. Donna's cowor...  \n...                                                 ...  \n7247  My dog ran away and I found it. [SEP]My dog ra...  \n7248  Sandy was surprised to find a package. Sandy o...  \n7249  Sandy was surprised to find a package. Sandy o...  \n7250  Sandy was surprised to find a package. Sandy o...  \n7251  Sandy was surprised to find a package. Sandy o...  \n\n[7252 rows x 4 columns]",
      "text/html": "<div>\n<style scoped>\n    .dataframe tbody tr th:only-of-type {\n        vertical-align: middle;\n    }\n\n    .dataframe tbody tr th {\n        vertical-align: top;\n    }\n\n    .dataframe thead th {\n        text-align: right;\n    }\n</style>\n<table border=\"1\" class=\"dataframe\">\n  <thead>\n    <tr style=\"text-align: right;\">\n      <th></th>\n      <th>obs1</th>\n      <th>obs2</th>\n      <th>real_hypothesis</th>\n      <th>abduction_model</th>\n    </tr>\n  </thead>\n  <tbody>\n    <tr>\n      <th>0</th>\n      <td>Stephen was at a party.</td>\n      <td>He checked it but it was completely broken.</td>\n      <td>Stephen knocked over a vase while drunk.\\n</td>\n      <td>Stephen was very drunk. Stephen drank too much...</td>\n    </tr>\n    <tr>\n      <th>1</th>\n      <td>Stephen was at a party.</td>\n      <td>He checked it but it was completely broken.</td>\n      <td>Stephen dropped his phone.\\n</td>\n      <td>Stephen was very drunk. Stephen drank too much...</td>\n    </tr>\n    <tr>\n      <th>2</th>\n      <td>Stephen was at a party.</td>\n      <td>He checked it but it was completely broken.</td>\n      <td>Stephen broke Jack's computer by accident whil...</td>\n      <td>Stephen was very drunk. Stephen drank too much...</td>\n    </tr>\n    <tr>\n      <th>3</th>\n      <td>Donna keeps a giant bowl of candy on her desk ...</td>\n      <td>Her coworkers were so excited for all the new ...</td>\n      <td>Donna got new treats for her coworkers.\\n</td>\n      <td>Donna's coworkers were so happy. Donna's cowor...</td>\n    </tr>\n    <tr>\n      <th>4</th>\n      <td>Donna keeps a giant bowl of candy on her desk ...</td>\n      <td>Her coworkers were so excited for all the new ...</td>\n      <td>Donna got some new candy.\\n</td>\n      <td>Donna's coworkers were so happy. Donna's cowor...</td>\n    </tr>\n    <tr>\n      <th>...</th>\n      <td>...</td>\n      <td>...</td>\n      <td>...</td>\n      <td>...</td>\n    </tr>\n    <tr>\n      <th>7247</th>\n      <td>My dog loved tennis balls.</td>\n      <td>My dog had stolen every one and put it under t...</td>\n      <td>One day I found all of my lost tennis balls un...</td>\n      <td>My dog ran away and I found it. [SEP]My dog ra...</td>\n    </tr>\n    <tr>\n      <th>7248</th>\n      <td>Sandy wanted to know what her husband bought h...</td>\n      <td>She carefully opened it and took a peek.</td>\n      <td>Sandy found her gift in the closet.\\n</td>\n      <td>Sandy was surprised to find a package. Sandy o...</td>\n    </tr>\n    <tr>\n      <th>7249</th>\n      <td>Sandy wanted to know what her husband bought h...</td>\n      <td>She carefully opened it and took a peek.</td>\n      <td>She found the present lying in plain site.\\n</td>\n      <td>Sandy was surprised to find a package. Sandy o...</td>\n    </tr>\n    <tr>\n      <th>7250</th>\n      <td>Sandy wanted to know what her husband bought h...</td>\n      <td>She carefully opened it and took a peek.</td>\n      <td>When her husband was at work Sandy searched th...</td>\n      <td>Sandy was surprised to find a package. Sandy o...</td>\n    </tr>\n    <tr>\n      <th>7251</th>\n      <td>Sandy wanted to know what her husband bought h...</td>\n      <td>She carefully opened it and took a peek.</td>\n      <td>When he went to work the curiosity got the bes...</td>\n      <td>Sandy was surprised to find a package. Sandy o...</td>\n    </tr>\n  </tbody>\n</table>\n<p>7252 rows × 4 columns</p>\n</div>"
     },
     "execution_count": 10,
     "metadata": {},
     "output_type": "execute_result"
    }
   ],
   "source": [
    "abduction_model_gpt2_sm_validation = pd.DataFrame(read_abduction('results/results_gpt2_small_validation.csv'))\n",
    "abduction_model_gpt2_sm_validation"
   ],
   "metadata": {
    "collapsed": false,
    "pycharm": {
     "name": "#%%\n"
    }
   }
  },
  {
   "cell_type": "code",
   "execution_count": 11,
   "outputs": [
    {
     "data": {
      "text/plain": "                                                    obs1  \\\n0      The Smiths were having holidays done of the ch...   \n1      The Smiths were having holidays done of the ch...   \n2      The Smiths were having holidays done of the ch...   \n3      The Smiths were having holidays done of the ch...   \n4      The Smiths were having holidays done of the ch...   \n...                                                  ...   \n14308              Willy had butterflies in his stomach.   \n14309                   My mom and I had a big argument.   \n14310                   My mom and I had a big argument.   \n14311                   My mom and I had a big argument.   \n14312                   My mom and I had a big argument.   \n\n                                                    obs2  \\\n0      Ty's face lit up as he ran to the new toy happ...   \n1      Ty's face lit up as he ran to the new toy happ...   \n2      Ty's face lit up as he ran to the new toy happ...   \n3      Ty's face lit up as he ran to the new toy happ...   \n4      Ty's face lit up as he ran to the new toy happ...   \n...                                                  ...   \n14308                Willy played great and was the mvp.   \n14309  I finally called my mom and the two of us reco...   \n14310  I finally called my mom and the two of us reco...   \n14311  I finally called my mom and the two of us reco...   \n14312  I finally called my mom and the two of us reco...   \n\n                                         real_hypothesis  \\\n0                 The Smiths bought toys for the kids.\\n   \n1             The Smiths had bought a lot of presents.\\n   \n2                               The smiths gave gifts.\\n   \n3               They included some toys in the photos.\\n   \n4                   Their children came to their home.\\n   \n...                                                  ...   \n14308           Willie stopped to relax for 5 minutes.\\n   \n14309  I didn't like that my mom and I weren't talkin...   \n14310  We disagreed on how I was disciplining my chil...   \n14311            My mom and I did not talk for awhile.\\n   \n14312                       We went our separate ways.\\n   \n\n                                         abduction_model  \n0      Ty's parents were happy to see him. Ty's paren...  \n1      Ty's parents were happy to see him. Ty's paren...  \n2      Ty's parents were happy to see him. Ty's paren...  \n3      Ty's parents were happy to see him. Ty's paren...  \n4      Ty's parents were happy to see him. Ty's paren...  \n...                                                  ...  \n14308  Willy was the best mvp in the world. Willy was...  \n14309  My mom told me she was mad at me. [SEP]I told ...  \n14310  My mom told me she was mad at me. [SEP]I told ...  \n14311  My mom told me she was mad at me. [SEP]I told ...  \n14312  My mom told me she was mad at me. [SEP]I told ...  \n\n[14313 rows x 4 columns]",
      "text/html": "<div>\n<style scoped>\n    .dataframe tbody tr th:only-of-type {\n        vertical-align: middle;\n    }\n\n    .dataframe tbody tr th {\n        vertical-align: top;\n    }\n\n    .dataframe thead th {\n        text-align: right;\n    }\n</style>\n<table border=\"1\" class=\"dataframe\">\n  <thead>\n    <tr style=\"text-align: right;\">\n      <th></th>\n      <th>obs1</th>\n      <th>obs2</th>\n      <th>real_hypothesis</th>\n      <th>abduction_model</th>\n    </tr>\n  </thead>\n  <tbody>\n    <tr>\n      <th>0</th>\n      <td>The Smiths were having holidays done of the ch...</td>\n      <td>Ty's face lit up as he ran to the new toy happ...</td>\n      <td>The Smiths bought toys for the kids.\\n</td>\n      <td>Ty's parents were happy to see him. Ty's paren...</td>\n    </tr>\n    <tr>\n      <th>1</th>\n      <td>The Smiths were having holidays done of the ch...</td>\n      <td>Ty's face lit up as he ran to the new toy happ...</td>\n      <td>The Smiths had bought a lot of presents.\\n</td>\n      <td>Ty's parents were happy to see him. Ty's paren...</td>\n    </tr>\n    <tr>\n      <th>2</th>\n      <td>The Smiths were having holidays done of the ch...</td>\n      <td>Ty's face lit up as he ran to the new toy happ...</td>\n      <td>The smiths gave gifts.\\n</td>\n      <td>Ty's parents were happy to see him. Ty's paren...</td>\n    </tr>\n    <tr>\n      <th>3</th>\n      <td>The Smiths were having holidays done of the ch...</td>\n      <td>Ty's face lit up as he ran to the new toy happ...</td>\n      <td>They included some toys in the photos.\\n</td>\n      <td>Ty's parents were happy to see him. Ty's paren...</td>\n    </tr>\n    <tr>\n      <th>4</th>\n      <td>The Smiths were having holidays done of the ch...</td>\n      <td>Ty's face lit up as he ran to the new toy happ...</td>\n      <td>Their children came to their home.\\n</td>\n      <td>Ty's parents were happy to see him. Ty's paren...</td>\n    </tr>\n    <tr>\n      <th>...</th>\n      <td>...</td>\n      <td>...</td>\n      <td>...</td>\n      <td>...</td>\n    </tr>\n    <tr>\n      <th>14308</th>\n      <td>Willy had butterflies in his stomach.</td>\n      <td>Willy played great and was the mvp.</td>\n      <td>Willie stopped to relax for 5 minutes.\\n</td>\n      <td>Willy was the best mvp in the world. Willy was...</td>\n    </tr>\n    <tr>\n      <th>14309</th>\n      <td>My mom and I had a big argument.</td>\n      <td>I finally called my mom and the two of us reco...</td>\n      <td>I didn't like that my mom and I weren't talkin...</td>\n      <td>My mom told me she was mad at me. [SEP]I told ...</td>\n    </tr>\n    <tr>\n      <th>14310</th>\n      <td>My mom and I had a big argument.</td>\n      <td>I finally called my mom and the two of us reco...</td>\n      <td>We disagreed on how I was disciplining my chil...</td>\n      <td>My mom told me she was mad at me. [SEP]I told ...</td>\n    </tr>\n    <tr>\n      <th>14311</th>\n      <td>My mom and I had a big argument.</td>\n      <td>I finally called my mom and the two of us reco...</td>\n      <td>My mom and I did not talk for awhile.\\n</td>\n      <td>My mom told me she was mad at me. [SEP]I told ...</td>\n    </tr>\n    <tr>\n      <th>14312</th>\n      <td>My mom and I had a big argument.</td>\n      <td>I finally called my mom and the two of us reco...</td>\n      <td>We went our separate ways.\\n</td>\n      <td>My mom told me she was mad at me. [SEP]I told ...</td>\n    </tr>\n  </tbody>\n</table>\n<p>14313 rows × 4 columns</p>\n</div>"
     },
     "execution_count": 11,
     "metadata": {},
     "output_type": "execute_result"
    }
   ],
   "source": [
    "abduction_model_gpt2_sm_test = pd.DataFrame(read_abduction('results/results_gpt2_small_test.csv'))\n",
    "abduction_model_gpt2_sm_test"
   ],
   "metadata": {
    "collapsed": false,
    "pycharm": {
     "name": "#%%\n"
    }
   }
  },
  {
   "cell_type": "code",
   "execution_count": 12,
   "outputs": [
    {
     "data": {
      "text/plain": "                                    story_id  \\\n0     0023fe98-5106-458d-8069-e72f1f7d65eb-1   \n1     0023fe98-5106-458d-8069-e72f1f7d65eb-1   \n2     0023fe98-5106-458d-8069-e72f1f7d65eb-1   \n3     004b048d-beda-45a3-bb51-7a16dec21c5a-1   \n4     004b048d-beda-45a3-bb51-7a16dec21c5a-1   \n...                                      ...   \n7247  ff76fad7-2c83-4173-9575-f627092a0846-1   \n7248  ffc2e6d7-723e-4dc2-ad33-e9757c4030db-1   \n7249  ffc2e6d7-723e-4dc2-ad33-e9757c4030db-1   \n7250  ffc2e6d7-723e-4dc2-ad33-e9757c4030db-1   \n7251  ffc2e6d7-723e-4dc2-ad33-e9757c4030db-1   \n\n                                                   obs1  \\\n0                               Stephen was at a party.   \n1                               Stephen was at a party.   \n2                               Stephen was at a party.   \n3     Donna keeps a giant bowl of candy on her desk ...   \n4     Donna keeps a giant bowl of candy on her desk ...   \n...                                                 ...   \n7247                         My dog loved tennis balls.   \n7248  Sandy wanted to know what her husband bought h...   \n7249  Sandy wanted to know what her husband bought h...   \n7250  Sandy wanted to know what her husband bought h...   \n7251  Sandy wanted to know what her husband bought h...   \n\n                                                   obs2  \\\n0           He checked it but it was completely broken.   \n1           He checked it but it was completely broken.   \n2           He checked it but it was completely broken.   \n3     Her coworkers were so excited for all the new ...   \n4     Her coworkers were so excited for all the new ...   \n...                                                 ...   \n7247  My dog had stolen every one and put it under t...   \n7248           She carefully opened it and took a peek.   \n7249           She carefully opened it and took a peek.   \n7250           She carefully opened it and took a peek.   \n7251           She carefully opened it and took a peek.   \n\n                                        real_hypothesis  \\\n0              Stephen knocked over a vase while drunk.   \n1                            Stephen dropped his phone.   \n2     Stephen broke Jack's computer by accident whil...   \n3                    Donna forgot to replace the candy.   \n4                             Donna got some old candy.   \n...                                                 ...   \n7247                         My dog hates tennis balls.   \n7248  Sandy accidentally stumbled upon her gift in t...   \n7249            But she couldn't find where he hid hit.   \n7250  When Sandy was at work, her husband searched t...   \n7251  When he went to work the curiosity did not get...   \n\n                                            comet_model  \\\n0                            Stephen forgot his jacket.   \n1                     Stephen fell asleep on the couch.   \n2     Stephen was distracted from his father by a no...   \n3                   Donna's co workers like spicy food.   \n4                             Donna got some new boxes.   \n...                                                 ...   \n7247      My dog ran into a large ball when she saw it.   \n7248                Sandy's husband made her something.   \n7249                 Sandy decided to open a large box.   \n7250                       Sandy wanted a real cupcake.   \n7251  Sandy wanted to know what the tastes of the th...   \n\n                                 abduction_gpt_lg_model  \\\n0              Stephen dropped his phone.  was broken.    \n1              Stephen dropped his phone.  was broken.    \n2              Stephen dropped his phone.  was broken.    \n3     Donna's coworkers gave her a box of candy.  ca...   \n4     Donna's coworkers gave her a box of candy.  ca...   \n...                                                 ...   \n7247  I found several balls under my nightstand.  we...   \n7248  When he went to work the curiosity got the bes...   \n7249  When he went to work the curiosity got the bes...   \n7250  When he went to work the curiosity got the bes...   \n7251  When he went to work the curiosity got the bes...   \n\n                                 abduction_gpt_md_model  \\\n0                             Stephen broke his glass.    \n1                             Stephen broke his glass.    \n2                             Stephen broke his glass.    \n3     Donna's coworkers were very excited for all th...   \n4     Donna's coworkers were very excited for all th...   \n...                                                 ...   \n7247        I found several balls under my nightstand.    \n7248  When he went to work the received a small box ...   \n7249  When he went to work the received a small box ...   \n7250  When he went to work the received a small box ...   \n7251  When he went to work the received a small box ...   \n\n                                 abduction_gpt_sm_model  \n0     Stephen was very drunk. Stephen drank too much...  \n1     Stephen was very drunk. Stephen drank too much...  \n2     Stephen was very drunk. Stephen drank too much...  \n3     Donna's coworkers were so happy. Donna's cowor...  \n4     Donna's coworkers were so happy. Donna's cowor...  \n...                                                 ...  \n7247  My dog ran away and I found it. [SEP]My dog ra...  \n7248  Sandy was surprised to find a package. Sandy o...  \n7249  Sandy was surprised to find a package. Sandy o...  \n7250  Sandy was surprised to find a package. Sandy o...  \n7251  Sandy was surprised to find a package. Sandy o...  \n\n[7252 rows x 8 columns]",
      "text/html": "<div>\n<style scoped>\n    .dataframe tbody tr th:only-of-type {\n        vertical-align: middle;\n    }\n\n    .dataframe tbody tr th {\n        vertical-align: top;\n    }\n\n    .dataframe thead th {\n        text-align: right;\n    }\n</style>\n<table border=\"1\" class=\"dataframe\">\n  <thead>\n    <tr style=\"text-align: right;\">\n      <th></th>\n      <th>story_id</th>\n      <th>obs1</th>\n      <th>obs2</th>\n      <th>real_hypothesis</th>\n      <th>comet_model</th>\n      <th>abduction_gpt_lg_model</th>\n      <th>abduction_gpt_md_model</th>\n      <th>abduction_gpt_sm_model</th>\n    </tr>\n  </thead>\n  <tbody>\n    <tr>\n      <th>0</th>\n      <td>0023fe98-5106-458d-8069-e72f1f7d65eb-1</td>\n      <td>Stephen was at a party.</td>\n      <td>He checked it but it was completely broken.</td>\n      <td>Stephen knocked over a vase while drunk.</td>\n      <td>Stephen forgot his jacket.</td>\n      <td>Stephen dropped his phone.  was broken.</td>\n      <td>Stephen broke his glass.</td>\n      <td>Stephen was very drunk. Stephen drank too much...</td>\n    </tr>\n    <tr>\n      <th>1</th>\n      <td>0023fe98-5106-458d-8069-e72f1f7d65eb-1</td>\n      <td>Stephen was at a party.</td>\n      <td>He checked it but it was completely broken.</td>\n      <td>Stephen dropped his phone.</td>\n      <td>Stephen fell asleep on the couch.</td>\n      <td>Stephen dropped his phone.  was broken.</td>\n      <td>Stephen broke his glass.</td>\n      <td>Stephen was very drunk. Stephen drank too much...</td>\n    </tr>\n    <tr>\n      <th>2</th>\n      <td>0023fe98-5106-458d-8069-e72f1f7d65eb-1</td>\n      <td>Stephen was at a party.</td>\n      <td>He checked it but it was completely broken.</td>\n      <td>Stephen broke Jack's computer by accident whil...</td>\n      <td>Stephen was distracted from his father by a no...</td>\n      <td>Stephen dropped his phone.  was broken.</td>\n      <td>Stephen broke his glass.</td>\n      <td>Stephen was very drunk. Stephen drank too much...</td>\n    </tr>\n    <tr>\n      <th>3</th>\n      <td>004b048d-beda-45a3-bb51-7a16dec21c5a-1</td>\n      <td>Donna keeps a giant bowl of candy on her desk ...</td>\n      <td>Her coworkers were so excited for all the new ...</td>\n      <td>Donna forgot to replace the candy.</td>\n      <td>Donna's co workers like spicy food.</td>\n      <td>Donna's coworkers gave her a box of candy.  ca...</td>\n      <td>Donna's coworkers were very excited for all th...</td>\n      <td>Donna's coworkers were so happy. Donna's cowor...</td>\n    </tr>\n    <tr>\n      <th>4</th>\n      <td>004b048d-beda-45a3-bb51-7a16dec21c5a-1</td>\n      <td>Donna keeps a giant bowl of candy on her desk ...</td>\n      <td>Her coworkers were so excited for all the new ...</td>\n      <td>Donna got some old candy.</td>\n      <td>Donna got some new boxes.</td>\n      <td>Donna's coworkers gave her a box of candy.  ca...</td>\n      <td>Donna's coworkers were very excited for all th...</td>\n      <td>Donna's coworkers were so happy. Donna's cowor...</td>\n    </tr>\n    <tr>\n      <th>...</th>\n      <td>...</td>\n      <td>...</td>\n      <td>...</td>\n      <td>...</td>\n      <td>...</td>\n      <td>...</td>\n      <td>...</td>\n      <td>...</td>\n    </tr>\n    <tr>\n      <th>7247</th>\n      <td>ff76fad7-2c83-4173-9575-f627092a0846-1</td>\n      <td>My dog loved tennis balls.</td>\n      <td>My dog had stolen every one and put it under t...</td>\n      <td>My dog hates tennis balls.</td>\n      <td>My dog ran into a large ball when she saw it.</td>\n      <td>I found several balls under my nightstand.  we...</td>\n      <td>I found several balls under my nightstand.</td>\n      <td>My dog ran away and I found it. [SEP]My dog ra...</td>\n    </tr>\n    <tr>\n      <th>7248</th>\n      <td>ffc2e6d7-723e-4dc2-ad33-e9757c4030db-1</td>\n      <td>Sandy wanted to know what her husband bought h...</td>\n      <td>She carefully opened it and took a peek.</td>\n      <td>Sandy accidentally stumbled upon her gift in t...</td>\n      <td>Sandy's husband made her something.</td>\n      <td>When he went to work the curiosity got the bes...</td>\n      <td>When he went to work the received a small box ...</td>\n      <td>Sandy was surprised to find a package. Sandy o...</td>\n    </tr>\n    <tr>\n      <th>7249</th>\n      <td>ffc2e6d7-723e-4dc2-ad33-e9757c4030db-1</td>\n      <td>Sandy wanted to know what her husband bought h...</td>\n      <td>She carefully opened it and took a peek.</td>\n      <td>But she couldn't find where he hid hit.</td>\n      <td>Sandy decided to open a large box.</td>\n      <td>When he went to work the curiosity got the bes...</td>\n      <td>When he went to work the received a small box ...</td>\n      <td>Sandy was surprised to find a package. Sandy o...</td>\n    </tr>\n    <tr>\n      <th>7250</th>\n      <td>ffc2e6d7-723e-4dc2-ad33-e9757c4030db-1</td>\n      <td>Sandy wanted to know what her husband bought h...</td>\n      <td>She carefully opened it and took a peek.</td>\n      <td>When Sandy was at work, her husband searched t...</td>\n      <td>Sandy wanted a real cupcake.</td>\n      <td>When he went to work the curiosity got the bes...</td>\n      <td>When he went to work the received a small box ...</td>\n      <td>Sandy was surprised to find a package. Sandy o...</td>\n    </tr>\n    <tr>\n      <th>7251</th>\n      <td>ffc2e6d7-723e-4dc2-ad33-e9757c4030db-1</td>\n      <td>Sandy wanted to know what her husband bought h...</td>\n      <td>She carefully opened it and took a peek.</td>\n      <td>When he went to work the curiosity did not get...</td>\n      <td>Sandy wanted to know what the tastes of the th...</td>\n      <td>When he went to work the curiosity got the bes...</td>\n      <td>When he went to work the received a small box ...</td>\n      <td>Sandy was surprised to find a package. Sandy o...</td>\n    </tr>\n  </tbody>\n</table>\n<p>7252 rows × 8 columns</p>\n</div>"
     },
     "execution_count": 12,
     "metadata": {},
     "output_type": "execute_result"
    }
   ],
   "source": [
    "comet_df_validation['abduction_gpt_lg_model'] = abduction_model_gpt2_lg_validation[['abduction_model']]\n",
    "comet_df_validation['abduction_gpt_md_model'] = abduction_model_gpt2_md_validation[['abduction_model']]\n",
    "comet_df_validation['abduction_gpt_sm_model'] = abduction_model_gpt2_sm_validation[['abduction_model']]\n",
    "comet_df_validation"
   ],
   "metadata": {
    "collapsed": false,
    "pycharm": {
     "name": "#%%\n"
    }
   }
  },
  {
   "cell_type": "code",
   "execution_count": 13,
   "outputs": [
    {
     "data": {
      "text/plain": "                                     story_id  \\\n0      0061bad2-e595-483c-9649-87cc1f2ea3e8-1   \n1      0061bad2-e595-483c-9649-87cc1f2ea3e8-1   \n2      0061bad2-e595-483c-9649-87cc1f2ea3e8-1   \n3      0061bad2-e595-483c-9649-87cc1f2ea3e8-1   \n4      0061bad2-e595-483c-9649-87cc1f2ea3e8-1   \n...                                       ...   \n14308  fffa8585-8273-49ed-a818-460c981f9779-1   \n14309  fffcd77b-26e2-4fa9-93b2-5dee55f9f452-1   \n14310  fffcd77b-26e2-4fa9-93b2-5dee55f9f452-1   \n14311  fffcd77b-26e2-4fa9-93b2-5dee55f9f452-1   \n14312  fffcd77b-26e2-4fa9-93b2-5dee55f9f452-1   \n\n                                                    obs1  \\\n0      The Smiths were having holidays done of the ch...   \n1      The Smiths were having holidays done of the ch...   \n2      The Smiths were having holidays done of the ch...   \n3      The Smiths were having holidays done of the ch...   \n4      The Smiths were having holidays done of the ch...   \n...                                                  ...   \n14308              Willy had butterflies in his stomach.   \n14309                   My mom and I had a big argument.   \n14310                   My mom and I had a big argument.   \n14311                   My mom and I had a big argument.   \n14312                   My mom and I had a big argument.   \n\n                                                    obs2  \\\n0      Ty's face lit up as he ran to the new toy, hap...   \n1      Ty's face lit up as he ran to the new toy, hap...   \n2      Ty's face lit up as he ran to the new toy, hap...   \n3      Ty's face lit up as he ran to the new toy, hap...   \n4      Ty's face lit up as he ran to the new toy, hap...   \n...                                                  ...   \n14308                Willy played great and was the mvp.   \n14309  I finally called my mom and the two of us reco...   \n14310  I finally called my mom and the two of us reco...   \n14311  I finally called my mom and the two of us reco...   \n14312  I finally called my mom and the two of us reco...   \n\n                                        real_hypothesis  \\\n0                  The Smiths bought toys for the kids.   \n1                  The Smiths had not bought  presents.   \n2                          The smiths forgot the gifts.   \n3                They included some toys in the photos.   \n4                    Their children came to their home.   \n...                                                 ...   \n14308            Willie stopped to relax for 5 minutes.   \n14309  I didn't like that my mom and I weren't talking.   \n14310    I refused to call her and we never reconciled.   \n14311             My mom and I did not talk for awhile.   \n14312                        We went our separate ways.   \n\n                                             comet_model  \\\n0      The Smiths bought a new toy, Ty had never seen...   \n1      One of Ty's kids introduced himself, and Ty kn...   \n2                                   Ty bought a new toy.   \n3                            They bought a video camera.   \n4                  Ty decided to get some birthday toys.   \n...                                                  ...   \n14308               Willy's favorite person is a Mr. It.   \n14309                              I fell off the couch.   \n14310                             My mom was devastated.   \n14311                       My mom and I were separated.   \n14312                  My mom was not too happy with us.   \n\n                                  abduction_gpt_lg_model  \\\n0      The Smiths had bought a lot of presents.  was ...   \n1      The Smiths had bought a lot of presents.  was ...   \n2      The Smiths had bought a lot of presents.  was ...   \n3      The Smiths had bought a lot of presents.  was ...   \n4      The Smiths had bought a lot of presents.  was ...   \n...                                                  ...   \n14308  Willy was the starting quarterback of his team...   \n14309  My mom and I did not talk for awhile.  was ter...   \n14310  My mom and I did not talk for awhile.  was ter...   \n14311  My mom and I did not talk for awhile.  was ter...   \n14312  My mom and I did not talk for awhile.  was ter...   \n\n                                  abduction_gpt_md_model  \\\n0              The Smiths had bought a lot of presents.    \n1              The Smiths had bought a lot of presents.    \n2              The Smiths had bought a lot of presents.    \n3              The Smiths had bought a lot of presents.    \n4              The Smiths had bought a lot of presents.    \n...                                                  ...   \n14308   Willy was the starting quarterback of his team.    \n14309  I didn't like that my mom and I weren't talking.    \n14310  I didn't like that my mom and I weren't talking.    \n14311  I didn't like that my mom and I weren't talking.    \n14312  I didn't like that my mom and I weren't talking.    \n\n                                  abduction_gpt_sm_model  \n0      Ty's parents were happy to see him. Ty's paren...  \n1      Ty's parents were happy to see him. Ty's paren...  \n2      Ty's parents were happy to see him. Ty's paren...  \n3      Ty's parents were happy to see him. Ty's paren...  \n4      Ty's parents were happy to see him. Ty's paren...  \n...                                                  ...  \n14308  Willy was the best mvp in the world. Willy was...  \n14309  My mom told me she was mad at me. [SEP]I told ...  \n14310  My mom told me she was mad at me. [SEP]I told ...  \n14311  My mom told me she was mad at me. [SEP]I told ...  \n14312  My mom told me she was mad at me. [SEP]I told ...  \n\n[14313 rows x 8 columns]",
      "text/html": "<div>\n<style scoped>\n    .dataframe tbody tr th:only-of-type {\n        vertical-align: middle;\n    }\n\n    .dataframe tbody tr th {\n        vertical-align: top;\n    }\n\n    .dataframe thead th {\n        text-align: right;\n    }\n</style>\n<table border=\"1\" class=\"dataframe\">\n  <thead>\n    <tr style=\"text-align: right;\">\n      <th></th>\n      <th>story_id</th>\n      <th>obs1</th>\n      <th>obs2</th>\n      <th>real_hypothesis</th>\n      <th>comet_model</th>\n      <th>abduction_gpt_lg_model</th>\n      <th>abduction_gpt_md_model</th>\n      <th>abduction_gpt_sm_model</th>\n    </tr>\n  </thead>\n  <tbody>\n    <tr>\n      <th>0</th>\n      <td>0061bad2-e595-483c-9649-87cc1f2ea3e8-1</td>\n      <td>The Smiths were having holidays done of the ch...</td>\n      <td>Ty's face lit up as he ran to the new toy, hap...</td>\n      <td>The Smiths bought toys for the kids.</td>\n      <td>The Smiths bought a new toy, Ty had never seen...</td>\n      <td>The Smiths had bought a lot of presents.  was ...</td>\n      <td>The Smiths had bought a lot of presents.</td>\n      <td>Ty's parents were happy to see him. Ty's paren...</td>\n    </tr>\n    <tr>\n      <th>1</th>\n      <td>0061bad2-e595-483c-9649-87cc1f2ea3e8-1</td>\n      <td>The Smiths were having holidays done of the ch...</td>\n      <td>Ty's face lit up as he ran to the new toy, hap...</td>\n      <td>The Smiths had not bought  presents.</td>\n      <td>One of Ty's kids introduced himself, and Ty kn...</td>\n      <td>The Smiths had bought a lot of presents.  was ...</td>\n      <td>The Smiths had bought a lot of presents.</td>\n      <td>Ty's parents were happy to see him. Ty's paren...</td>\n    </tr>\n    <tr>\n      <th>2</th>\n      <td>0061bad2-e595-483c-9649-87cc1f2ea3e8-1</td>\n      <td>The Smiths were having holidays done of the ch...</td>\n      <td>Ty's face lit up as he ran to the new toy, hap...</td>\n      <td>The smiths forgot the gifts.</td>\n      <td>Ty bought a new toy.</td>\n      <td>The Smiths had bought a lot of presents.  was ...</td>\n      <td>The Smiths had bought a lot of presents.</td>\n      <td>Ty's parents were happy to see him. Ty's paren...</td>\n    </tr>\n    <tr>\n      <th>3</th>\n      <td>0061bad2-e595-483c-9649-87cc1f2ea3e8-1</td>\n      <td>The Smiths were having holidays done of the ch...</td>\n      <td>Ty's face lit up as he ran to the new toy, hap...</td>\n      <td>They included some toys in the photos.</td>\n      <td>They bought a video camera.</td>\n      <td>The Smiths had bought a lot of presents.  was ...</td>\n      <td>The Smiths had bought a lot of presents.</td>\n      <td>Ty's parents were happy to see him. Ty's paren...</td>\n    </tr>\n    <tr>\n      <th>4</th>\n      <td>0061bad2-e595-483c-9649-87cc1f2ea3e8-1</td>\n      <td>The Smiths were having holidays done of the ch...</td>\n      <td>Ty's face lit up as he ran to the new toy, hap...</td>\n      <td>Their children came to their home.</td>\n      <td>Ty decided to get some birthday toys.</td>\n      <td>The Smiths had bought a lot of presents.  was ...</td>\n      <td>The Smiths had bought a lot of presents.</td>\n      <td>Ty's parents were happy to see him. Ty's paren...</td>\n    </tr>\n    <tr>\n      <th>...</th>\n      <td>...</td>\n      <td>...</td>\n      <td>...</td>\n      <td>...</td>\n      <td>...</td>\n      <td>...</td>\n      <td>...</td>\n      <td>...</td>\n    </tr>\n    <tr>\n      <th>14308</th>\n      <td>fffa8585-8273-49ed-a818-460c981f9779-1</td>\n      <td>Willy had butterflies in his stomach.</td>\n      <td>Willy played great and was the mvp.</td>\n      <td>Willie stopped to relax for 5 minutes.</td>\n      <td>Willy's favorite person is a Mr. It.</td>\n      <td>Willy was the starting quarterback of his team...</td>\n      <td>Willy was the starting quarterback of his team.</td>\n      <td>Willy was the best mvp in the world. Willy was...</td>\n    </tr>\n    <tr>\n      <th>14309</th>\n      <td>fffcd77b-26e2-4fa9-93b2-5dee55f9f452-1</td>\n      <td>My mom and I had a big argument.</td>\n      <td>I finally called my mom and the two of us reco...</td>\n      <td>I didn't like that my mom and I weren't talking.</td>\n      <td>I fell off the couch.</td>\n      <td>My mom and I did not talk for awhile.  was ter...</td>\n      <td>I didn't like that my mom and I weren't talking.</td>\n      <td>My mom told me she was mad at me. [SEP]I told ...</td>\n    </tr>\n    <tr>\n      <th>14310</th>\n      <td>fffcd77b-26e2-4fa9-93b2-5dee55f9f452-1</td>\n      <td>My mom and I had a big argument.</td>\n      <td>I finally called my mom and the two of us reco...</td>\n      <td>I refused to call her and we never reconciled.</td>\n      <td>My mom was devastated.</td>\n      <td>My mom and I did not talk for awhile.  was ter...</td>\n      <td>I didn't like that my mom and I weren't talking.</td>\n      <td>My mom told me she was mad at me. [SEP]I told ...</td>\n    </tr>\n    <tr>\n      <th>14311</th>\n      <td>fffcd77b-26e2-4fa9-93b2-5dee55f9f452-1</td>\n      <td>My mom and I had a big argument.</td>\n      <td>I finally called my mom and the two of us reco...</td>\n      <td>My mom and I did not talk for awhile.</td>\n      <td>My mom and I were separated.</td>\n      <td>My mom and I did not talk for awhile.  was ter...</td>\n      <td>I didn't like that my mom and I weren't talking.</td>\n      <td>My mom told me she was mad at me. [SEP]I told ...</td>\n    </tr>\n    <tr>\n      <th>14312</th>\n      <td>fffcd77b-26e2-4fa9-93b2-5dee55f9f452-1</td>\n      <td>My mom and I had a big argument.</td>\n      <td>I finally called my mom and the two of us reco...</td>\n      <td>We went our separate ways.</td>\n      <td>My mom was not too happy with us.</td>\n      <td>My mom and I did not talk for awhile.  was ter...</td>\n      <td>I didn't like that my mom and I weren't talking.</td>\n      <td>My mom told me she was mad at me. [SEP]I told ...</td>\n    </tr>\n  </tbody>\n</table>\n<p>14313 rows × 8 columns</p>\n</div>"
     },
     "execution_count": 13,
     "metadata": {},
     "output_type": "execute_result"
    }
   ],
   "source": [
    "comet_df_test['abduction_gpt_lg_model'] = abduction_model_gpt2_lg_test[['abduction_model']]\n",
    "comet_df_test['abduction_gpt_md_model'] = abduction_model_gpt2_md_test[['abduction_model']]\n",
    "comet_df_test['abduction_gpt_sm_model'] = abduction_model_gpt2_sm_test[['abduction_model']]\n",
    "comet_df_test"
   ],
   "metadata": {
    "collapsed": false,
    "pycharm": {
     "name": "#%%\n"
    }
   }
  },
  {
   "cell_type": "code",
   "execution_count": 14,
   "outputs": [],
   "source": [
    "comet_df_test.to_csv(\"./final_results/results_consolidated_testset.csv\", index=False)\n",
    "comet_df_validation.to_csv(\"./final_results/results_consolidated_evalset.csv\", index=False)"
   ],
   "metadata": {
    "collapsed": false,
    "pycharm": {
     "name": "#%%\n"
    }
   }
  },
  {
   "cell_type": "markdown",
   "source": [
    "#### Now to randomly select one row from each story id and from those we randomly select\n",
    "#### 100 rows for human annotation"
   ],
   "metadata": {
    "collapsed": false
   }
  },
  {
   "cell_type": "code",
   "execution_count": 15,
   "outputs": [
    {
     "data": {
      "text/plain": "                                     story_id  \\\n9236   a4a142fa-0d92-4da9-b500-f8fdfbd65a69-1   \n2460   2b648029-ba58-406b-bcc1-107fc27c0fc6-1   \n13591  f315093b-1f5a-4009-8826-a08e4046231a-1   \n6437   71e4828c-375d-4e9b-a156-04874875e0d3-1   \n12998  e9897dcc-aa19-4ba6-a0f6-2325990a1b0a-1   \n...                                       ...   \n12258  dbc6ebba-14e7-4c1f-bdc4-8dc28ec27f4d-1   \n3390   3b8d54a0-0d39-496a-bbae-86ffec8de983-1   \n1821   1fdcff1a-d266-4abd-8291-386daccd2050-1   \n4334   4d8a08d6-0950-4135-9889-45a8d75a4e30-1   \n5986   6a88e010-b708-4e6e-a7a9-36cccd48fe77-1   \n\n                                                    obs1  \\\n9236                   I got on the train to go to work.   \n2460                                  James owned a cat.   \n13591               I had to dissect a frog for biology.   \n6437           Lucy was in the kitchen with her grandma.   \n12998                     Neil was visiting Scandinavia.   \n...                                                  ...   \n12258  Laura has had pain while chewing food for months.   \n3390                                   Brad's feet hurt.   \n1821   Leon decided to go to a restaurant with a driv...   \n4334                             What was cooking tacos.   \n5986                 Dan was angry with his brother Rob.   \n\n                                                    obs2  \\\n9236   Eventually the lights turned back on and we co...   \n2460                 So he locked them out of the house.   \n13591                         It was a great experience.   \n6437   Lucy was shocked since her mother allowed her ...   \n12998   Neil decided he would love to winter in Lapland!   \n...                                                  ...   \n12258  However, when the pain goes away, she is glad ...   \n3390                     His feet felt better than ever!   \n1821           They gave him his second burger for free.   \n4334                        Whit burned the taco shells.   \n5986         Dan didn't speak to his brother for a week.   \n\n                                         real_hypothesis  \\\n9236                             No trains were working.   \n2460   The cat posed for Instagram photos on James' e...   \n13591  Seeing all the organs made the experience more...   \n6437   But her non-gram did not let her use a steak k...   \n12998                  Neil enjoyed his visit very much.   \n...                                                  ...   \n12258  Laura never went to the dentist and the orthod...   \n3390        Brad burned his feet in a scolding hot bath.   \n1821             The order taker got Leon's order wrong.   \n4334   Whit left the taco shells in the fridge and go...   \n5986    Rob had stolen some cash from Dan, enraging him.   \n\n                                             comet_model  \\\n9236                                 It started raining.   \n2460                James's cat ran outside in a ruckus.   \n13591  I got to witness an animal-focused birth and m...   \n6437                    Lucy tried to use a steak knife.   \n12998                     It was always snowy in Europe.   \n...                                                  ...   \n12258                      Laura decided to have braces.   \n3390   Brad decided to try running but needed to spra...   \n1821                             Leon did his best work.   \n4334                    Whit got all of his taco shells.   \n5986          Dan could not decide whether to visit Rob.   \n\n                                  abduction_gpt_lg_model  \\\n9236   The lights went out on the train.  the power w...   \n2460                   The cat kept hat from his bed. .    \n13591  I learned a lot from it.  was a my favorite ex...   \n6437   Lucy wanted to use a steak knife to cut.  aske...   \n12998  Neil went to visit three winter roads.  was th...   \n...                                                  ...   \n12258  Laura went to the dentist to have it removed. ...   \n3390     Brad got new shoes.  came andBrad's feet sore.    \n1821   The food arrived on time but he decided to ord...   \n4334                    Whit was really hungry.  were!.    \n5986   Dan was angry at his brother for what he did. ...   \n\n                                  abduction_gpt_md_model  \\\n9236                  The lights went out on the train.    \n2460                      James' friends stole the cat.    \n13591                          I learned a lot from it.    \n6437   Lucy was helping her grandma when her mother a...   \n12998   Neil loved to see all the cool and fun weather.    \n...                                                  ...   \n12258                    Laura has braces on her teeth.    \n3390                           Brad got a foot massage.    \n1821   They told him he left the burger was too big f...   \n4334                            Whit was cooking tacos.    \n5986                        Dan was mad at his brother.    \n\n                                  abduction_gpt_sm_model  \n9236   I was on the train. I got stuck on the train. ...  \n2460   James was scared of the cat. James was scared ...  \n13591  I was able to learn a lot about frog anatomy. ...  \n6437   Lucy's grandma was very nice. Lucy's grandma a...  \n12998  Neil decided to go on a trip to Norway. Neil d...  \n...                                                  ...  \n12258  Laura's dentist told her she needed to go to t...  \n3390   Brad decided to take a shower. Brad's feet wer...  \n1821   Leon ordered a burger. Leon ordered a burger. ...  \n4334   Whit was cooking tacos. Whit was cooking tacos...  \n5986   Dan's brother Rob was angry with Dan. [SEP]Dan...  \n\n[100 rows x 8 columns]",
      "text/html": "<div>\n<style scoped>\n    .dataframe tbody tr th:only-of-type {\n        vertical-align: middle;\n    }\n\n    .dataframe tbody tr th {\n        vertical-align: top;\n    }\n\n    .dataframe thead th {\n        text-align: right;\n    }\n</style>\n<table border=\"1\" class=\"dataframe\">\n  <thead>\n    <tr style=\"text-align: right;\">\n      <th></th>\n      <th>story_id</th>\n      <th>obs1</th>\n      <th>obs2</th>\n      <th>real_hypothesis</th>\n      <th>comet_model</th>\n      <th>abduction_gpt_lg_model</th>\n      <th>abduction_gpt_md_model</th>\n      <th>abduction_gpt_sm_model</th>\n    </tr>\n  </thead>\n  <tbody>\n    <tr>\n      <th>9236</th>\n      <td>a4a142fa-0d92-4da9-b500-f8fdfbd65a69-1</td>\n      <td>I got on the train to go to work.</td>\n      <td>Eventually the lights turned back on and we co...</td>\n      <td>No trains were working.</td>\n      <td>It started raining.</td>\n      <td>The lights went out on the train.  the power w...</td>\n      <td>The lights went out on the train.</td>\n      <td>I was on the train. I got stuck on the train. ...</td>\n    </tr>\n    <tr>\n      <th>2460</th>\n      <td>2b648029-ba58-406b-bcc1-107fc27c0fc6-1</td>\n      <td>James owned a cat.</td>\n      <td>So he locked them out of the house.</td>\n      <td>The cat posed for Instagram photos on James' e...</td>\n      <td>James's cat ran outside in a ruckus.</td>\n      <td>The cat kept hat from his bed. .</td>\n      <td>James' friends stole the cat.</td>\n      <td>James was scared of the cat. James was scared ...</td>\n    </tr>\n    <tr>\n      <th>13591</th>\n      <td>f315093b-1f5a-4009-8826-a08e4046231a-1</td>\n      <td>I had to dissect a frog for biology.</td>\n      <td>It was a great experience.</td>\n      <td>Seeing all the organs made the experience more...</td>\n      <td>I got to witness an animal-focused birth and m...</td>\n      <td>I learned a lot from it.  was a my favorite ex...</td>\n      <td>I learned a lot from it.</td>\n      <td>I was able to learn a lot about frog anatomy. ...</td>\n    </tr>\n    <tr>\n      <th>6437</th>\n      <td>71e4828c-375d-4e9b-a156-04874875e0d3-1</td>\n      <td>Lucy was in the kitchen with her grandma.</td>\n      <td>Lucy was shocked since her mother allowed her ...</td>\n      <td>But her non-gram did not let her use a steak k...</td>\n      <td>Lucy tried to use a steak knife.</td>\n      <td>Lucy wanted to use a steak knife to cut.  aske...</td>\n      <td>Lucy was helping her grandma when her mother a...</td>\n      <td>Lucy's grandma was very nice. Lucy's grandma a...</td>\n    </tr>\n    <tr>\n      <th>12998</th>\n      <td>e9897dcc-aa19-4ba6-a0f6-2325990a1b0a-1</td>\n      <td>Neil was visiting Scandinavia.</td>\n      <td>Neil decided he would love to winter in Lapland!</td>\n      <td>Neil enjoyed his visit very much.</td>\n      <td>It was always snowy in Europe.</td>\n      <td>Neil went to visit three winter roads.  was th...</td>\n      <td>Neil loved to see all the cool and fun weather.</td>\n      <td>Neil decided to go on a trip to Norway. Neil d...</td>\n    </tr>\n    <tr>\n      <th>...</th>\n      <td>...</td>\n      <td>...</td>\n      <td>...</td>\n      <td>...</td>\n      <td>...</td>\n      <td>...</td>\n      <td>...</td>\n      <td>...</td>\n    </tr>\n    <tr>\n      <th>12258</th>\n      <td>dbc6ebba-14e7-4c1f-bdc4-8dc28ec27f4d-1</td>\n      <td>Laura has had pain while chewing food for months.</td>\n      <td>However, when the pain goes away, she is glad ...</td>\n      <td>Laura never went to the dentist and the orthod...</td>\n      <td>Laura decided to have braces.</td>\n      <td>Laura went to the dentist to have it removed. ...</td>\n      <td>Laura has braces on her teeth.</td>\n      <td>Laura's dentist told her she needed to go to t...</td>\n    </tr>\n    <tr>\n      <th>3390</th>\n      <td>3b8d54a0-0d39-496a-bbae-86ffec8de983-1</td>\n      <td>Brad's feet hurt.</td>\n      <td>His feet felt better than ever!</td>\n      <td>Brad burned his feet in a scolding hot bath.</td>\n      <td>Brad decided to try running but needed to spra...</td>\n      <td>Brad got new shoes.  came andBrad's feet sore.</td>\n      <td>Brad got a foot massage.</td>\n      <td>Brad decided to take a shower. Brad's feet wer...</td>\n    </tr>\n    <tr>\n      <th>1821</th>\n      <td>1fdcff1a-d266-4abd-8291-386daccd2050-1</td>\n      <td>Leon decided to go to a restaurant with a driv...</td>\n      <td>They gave him his second burger for free.</td>\n      <td>The order taker got Leon's order wrong.</td>\n      <td>Leon did his best work.</td>\n      <td>The food arrived on time but he decided to ord...</td>\n      <td>They told him he left the burger was too big f...</td>\n      <td>Leon ordered a burger. Leon ordered a burger. ...</td>\n    </tr>\n    <tr>\n      <th>4334</th>\n      <td>4d8a08d6-0950-4135-9889-45a8d75a4e30-1</td>\n      <td>What was cooking tacos.</td>\n      <td>Whit burned the taco shells.</td>\n      <td>Whit left the taco shells in the fridge and go...</td>\n      <td>Whit got all of his taco shells.</td>\n      <td>Whit was really hungry.  were!.</td>\n      <td>Whit was cooking tacos.</td>\n      <td>Whit was cooking tacos. Whit was cooking tacos...</td>\n    </tr>\n    <tr>\n      <th>5986</th>\n      <td>6a88e010-b708-4e6e-a7a9-36cccd48fe77-1</td>\n      <td>Dan was angry with his brother Rob.</td>\n      <td>Dan didn't speak to his brother for a week.</td>\n      <td>Rob had stolen some cash from Dan, enraging him.</td>\n      <td>Dan could not decide whether to visit Rob.</td>\n      <td>Dan was angry at his brother for what he did. ...</td>\n      <td>Dan was mad at his brother.</td>\n      <td>Dan's brother Rob was angry with Dan. [SEP]Dan...</td>\n    </tr>\n  </tbody>\n</table>\n<p>100 rows × 8 columns</p>\n</div>"
     },
     "execution_count": 15,
     "metadata": {},
     "output_type": "execute_result"
    }
   ],
   "source": [
    "comet_df_test_100_sample = comet_df_test.groupby(by=['story_id'], axis=0).sample(n=1, random_state=10).sample(100, random_state=10)\n",
    "comet_df_test_100_sample"
   ],
   "metadata": {
    "collapsed": false,
    "pycharm": {
     "name": "#%%\n"
    }
   }
  },
  {
   "cell_type": "code",
   "execution_count": 16,
   "outputs": [
    {
     "name": "stdout",
     "output_type": "stream",
     "text": [
      "Requirement already satisfied: openpyxl in /Users/dishek/opt/anaconda3/envs/abduction_modeling/lib/python3.9/site-packages (3.0.9)\r\n",
      "Requirement already satisfied: et-xmlfile in /Users/dishek/opt/anaconda3/envs/abduction_modeling/lib/python3.9/site-packages (from openpyxl) (1.1.0)\r\n"
     ]
    }
   ],
   "source": [
    "!pip install openpyxl\n",
    "#fh = os.open('final_results/results_100sample.xlsx', 'w')\n",
    "comet_df_test_100_sample.to_excel('final_results/results_100sample.xlsx',\n",
    "                                  header=True, index=False)\n",
    "#fh.close()"
   ],
   "metadata": {
    "collapsed": false,
    "pycharm": {
     "name": "#%%\n"
    }
   }
  },
  {
   "cell_type": "markdown",
   "source": [
    "## From here on onwards we'll add evaluate human annotation results\n"
   ],
   "metadata": {
    "collapsed": false
   }
  },
  {
   "cell_type": "code",
   "execution_count": 84,
   "outputs": [],
   "source": [
    "score_ids = {1: 'human_score_of_abdcution_gpt_lg_model_as_compared_to_real_hypothesis',\n",
    "             2: 'human_score_of_abdcution_gpt_md_model_as_compared_to_real_hypothesis',\n",
    "             3: 'human_score_of_abdcution_gpt_sm_model_as_compared_to_real_hypothesis',\n",
    "             4: 'human_score_of_abdcution_gpt_lg_model_as_compared_to_comet_model',\n",
    "             5: 'human_score_of_abdcution_gpt_md_model_as_compared_to_comet_model',\n",
    "             6: 'human_score_of_abdcution_gpt_sm_model_as_compared_to_comet_model'}\n",
    "cols = list(score_ids.values()) + ['story_id']\n",
    "human_ss = pd.read_excel('final_results/results_100sample_g2g_ss.xlsx', sheet_name='SunnyScoring')[cols]\n",
    "human_kw = pd.read_excel('final_results/results_100sample_g2g_kw.xlsx')[cols]\n",
    "human_tam = pd.read_excel('final_results/results_100sample_g2g_tam.xlsx')[cols]\n",
    "human_alice = pd.read_excel('final_results/results_100sample_g2g_alice.xlsx')[cols]\n",
    "human_chelsie = pd.read_excel('final_results/results_100sample_g2g_chelsie.xlsx')[cols]\n",
    "annotators = {'ss': human_ss,\n",
    "              'kw': human_kw,\n",
    "              'tam': human_tam,\n",
    "              'alice': human_alice,\n",
    "              'chelsie': human_chelsie}"
   ],
   "metadata": {
    "collapsed": false,
    "pycharm": {
     "name": "#%%\n"
    }
   }
  },
  {
   "cell_type": "code",
   "execution_count": 151,
   "outputs": [],
   "source": [
    "# human_score_of_abdcution_gpt_lg_model_as_compared_to_real_hypothesis\n",
    "def extract_human_scores(annotators):\n",
    "    dfs = []\n",
    "    for annotator, annotated_df in annotators.items():\n",
    "        print(f\"Processing for {annotator}\")\n",
    "        df = pd.DataFrame()\n",
    "\n",
    "        for k, v in score_ids.items():\n",
    "            score_counts = annotated_df[[score_ids[k]]].value_counts()\n",
    "            df[f\"{k}_{3}\"] = [score_counts[3]]\n",
    "            df[f\"{k}_{2}\"] = [score_counts[2]]\n",
    "            df[f\"{k}_{1}\"] = [score_counts[1]]\n",
    "\n",
    "        print(f\"finished creating dataframe for {annotator}\")\n",
    "        df.reindex([annotator])\n",
    "        dfs.append(df)\n",
    "    return pd.concat(dfs)\n"
   ],
   "metadata": {
    "collapsed": false,
    "pycharm": {
     "name": "#%%\n"
    }
   }
  },
  {
   "cell_type": "code",
   "execution_count": 153,
   "outputs": [
    {
     "name": "stdout",
     "output_type": "stream",
     "text": [
      "Processing for ss\n",
      "finished creating dataframe for ss\n",
      "Processing for kw\n",
      "finished creating dataframe for kw\n",
      "Processing for tam\n",
      "finished creating dataframe for tam\n",
      "Processing for alice\n",
      "finished creating dataframe for alice\n",
      "Processing for chelsie\n",
      "finished creating dataframe for chelsie\n"
     ]
    },
    {
     "data": {
      "text/plain": "   1_3  1_2  1_1  2_3  2_2  2_1  3_3  3_2  3_1  4_3  4_2  4_1  5_3  5_2  5_1  \\\n0   33   39   28   37   36   27   17   24   59   69   20   11   67   26    7   \n0   63    3   34   52    4   43   46   25   29   58    6   36   52    6   41   \n0   11   26   63   20   46   34   10   46   43   25   34   41   29   36   34   \n0   12   12   76   44   36   20    1    8   91   15   10   75   53   27   20   \n0   30   31   39   29   42   29   21   18   61   63   15   22   61   22   17   \n\n   6_3  6_2  6_1  \n0   27   57   16  \n0   44   25   31  \n0   14   50   36  \n0    3    6   91  \n0   41   23   36  ",
      "text/html": "<div>\n<style scoped>\n    .dataframe tbody tr th:only-of-type {\n        vertical-align: middle;\n    }\n\n    .dataframe tbody tr th {\n        vertical-align: top;\n    }\n\n    .dataframe thead th {\n        text-align: right;\n    }\n</style>\n<table border=\"1\" class=\"dataframe\">\n  <thead>\n    <tr style=\"text-align: right;\">\n      <th></th>\n      <th>1_3</th>\n      <th>1_2</th>\n      <th>1_1</th>\n      <th>2_3</th>\n      <th>2_2</th>\n      <th>2_1</th>\n      <th>3_3</th>\n      <th>3_2</th>\n      <th>3_1</th>\n      <th>4_3</th>\n      <th>4_2</th>\n      <th>4_1</th>\n      <th>5_3</th>\n      <th>5_2</th>\n      <th>5_1</th>\n      <th>6_3</th>\n      <th>6_2</th>\n      <th>6_1</th>\n    </tr>\n  </thead>\n  <tbody>\n    <tr>\n      <th>0</th>\n      <td>33</td>\n      <td>39</td>\n      <td>28</td>\n      <td>37</td>\n      <td>36</td>\n      <td>27</td>\n      <td>17</td>\n      <td>24</td>\n      <td>59</td>\n      <td>69</td>\n      <td>20</td>\n      <td>11</td>\n      <td>67</td>\n      <td>26</td>\n      <td>7</td>\n      <td>27</td>\n      <td>57</td>\n      <td>16</td>\n    </tr>\n    <tr>\n      <th>0</th>\n      <td>63</td>\n      <td>3</td>\n      <td>34</td>\n      <td>52</td>\n      <td>4</td>\n      <td>43</td>\n      <td>46</td>\n      <td>25</td>\n      <td>29</td>\n      <td>58</td>\n      <td>6</td>\n      <td>36</td>\n      <td>52</td>\n      <td>6</td>\n      <td>41</td>\n      <td>44</td>\n      <td>25</td>\n      <td>31</td>\n    </tr>\n    <tr>\n      <th>0</th>\n      <td>11</td>\n      <td>26</td>\n      <td>63</td>\n      <td>20</td>\n      <td>46</td>\n      <td>34</td>\n      <td>10</td>\n      <td>46</td>\n      <td>43</td>\n      <td>25</td>\n      <td>34</td>\n      <td>41</td>\n      <td>29</td>\n      <td>36</td>\n      <td>34</td>\n      <td>14</td>\n      <td>50</td>\n      <td>36</td>\n    </tr>\n    <tr>\n      <th>0</th>\n      <td>12</td>\n      <td>12</td>\n      <td>76</td>\n      <td>44</td>\n      <td>36</td>\n      <td>20</td>\n      <td>1</td>\n      <td>8</td>\n      <td>91</td>\n      <td>15</td>\n      <td>10</td>\n      <td>75</td>\n      <td>53</td>\n      <td>27</td>\n      <td>20</td>\n      <td>3</td>\n      <td>6</td>\n      <td>91</td>\n    </tr>\n    <tr>\n      <th>0</th>\n      <td>30</td>\n      <td>31</td>\n      <td>39</td>\n      <td>29</td>\n      <td>42</td>\n      <td>29</td>\n      <td>21</td>\n      <td>18</td>\n      <td>61</td>\n      <td>63</td>\n      <td>15</td>\n      <td>22</td>\n      <td>61</td>\n      <td>22</td>\n      <td>17</td>\n      <td>41</td>\n      <td>23</td>\n      <td>36</td>\n    </tr>\n  </tbody>\n</table>\n</div>"
     },
     "execution_count": 153,
     "metadata": {},
     "output_type": "execute_result"
    }
   ],
   "source": [
    "all_annotators_result = extract_human_scores(annotators)\n",
    "all_annotators_result"
   ],
   "metadata": {
    "collapsed": false,
    "pycharm": {
     "name": "#%%\n"
    }
   }
  },
  {
   "cell_type": "code",
   "execution_count": 154,
   "outputs": [
    {
     "data": {
      "text/plain": "1_3    29.8\n1_2    22.2\n1_1    48.0\n2_3    36.4\n2_2    32.8\n2_1    30.6\n3_3    19.0\n3_2    24.2\n3_1    56.6\n4_3    46.0\n4_2    17.0\n4_1    37.0\n5_3    52.4\n5_2    23.4\n5_1    23.8\n6_3    25.8\n6_2    32.2\n6_1    42.0\ndtype: float64"
     },
     "execution_count": 154,
     "metadata": {},
     "output_type": "execute_result"
    }
   ],
   "source": [
    "all_annotators_result_mean = all_annotators_result.mean(axis=0)\n",
    "all_annotators_result_mean"
   ],
   "metadata": {
    "collapsed": false,
    "pycharm": {
     "name": "#%%\n"
    }
   }
  },
  {
   "cell_type": "markdown",
   "source": [
    "## Human Judgments Result\n",
    "| Model | less than neutral | neutral | greater than neutral | comparator\n",
    "| --- | ----------- | -------| -----| ------|\n",
    "| abd_gpt2_lg | 48.0 | 22.2 | 29.8 | real hypothesis |\n",
    "| abd_gpt2_lg | 37 | 17 | 46 | comet |\n",
    "| abd_gpt2_md | 30.6 | 32.8 | 36.4 | real hypothesis |\n",
    "| abd_gpt2_md | 23.8 | 23.4 | 52.4 | comet |\n",
    "| abd_gpt2_sm | 56.6 | 24.2 | 19.0 | real hypothesis |\n",
    "| abd_gpt2_sm | 42.0 | 32.2 | 25.8 | comet |"
   ],
   "metadata": {
    "collapsed": false
   }
  }
 ],
 "metadata": {
  "kernelspec": {
   "display_name": "Python 3",
   "language": "python",
   "name": "python3"
  },
  "language_info": {
   "codemirror_mode": {
    "name": "ipython",
    "version": 2
   },
   "file_extension": ".py",
   "mimetype": "text/x-python",
   "name": "python",
   "nbconvert_exporter": "python",
   "pygments_lexer": "ipython2",
   "version": "2.7.6"
  }
 },
 "nbformat": 4,
 "nbformat_minor": 0
}